{
  "nbformat": 4,
  "nbformat_minor": 0,
  "metadata": {
    "colab": {
      "provenance": []
    },
    "kernelspec": {
      "name": "python3",
      "display_name": "Python 3"
    },
    "language_info": {
      "name": "python"
    }
  },
  "cells": [
    {
      "cell_type": "code",
      "execution_count": null,
      "metadata": {
        "id": "I2Yfb6Y1XlFs"
      },
      "outputs": [],
      "source": [
        "import matplotlib.pylab as plt\n",
        "import numpy as np"
      ]
    },
    {
      "cell_type": "code",
      "source": [
        "f=lambda x: x*np.exp(x)-1\n",
        "x=np.linspace(0, 1, 100)"
      ],
      "metadata": {
        "id": "NT6hdVbzXpKg"
      },
      "execution_count": null,
      "outputs": []
    },
    {
      "cell_type": "code",
      "source": [
        "plt.figure()\n",
        "plt.plot(x, f(x))\n",
        "plt.xlabel(\"x\")\n",
        "plt.ylabel(\"f(x)\")\n",
        "plt.grid()"
      ],
      "metadata": {
        "colab": {
          "base_uri": "https://localhost:8080/",
          "height": 449
        },
        "id": "-six6BKmXtmj",
        "outputId": "9d8c70eb-7c4f-4772-8c8f-4081a022ef08"
      },
      "execution_count": null,
      "outputs": [
        {
          "output_type": "display_data",
          "data": {
            "text/plain": [
              "<Figure size 640x480 with 1 Axes>"
            ],
            "image/png": "[encoded data removed]"
          },
          "metadata": {}
        }
      ]
    },
    {
      "cell_type": "code",
      "source": [
        "x=np.arange(0.5, 0.6, 0.01)\n",
        "f(x)"
      ],
      "metadata": {
        "colab": {
          "base_uri": "https://localhost:8080/"
        },
        "id": "kLXJ3TRgXx1Q",
        "outputId": "68d538fc-b5b9-48ff-c7fb-27eecb489bd3"
      },
      "execution_count": null,
      "outputs": [
        {
          "output_type": "execute_result",
          "data": {
            "text/plain": [
              "array([-0.17563936, -0.15070149, -0.12534562, -0.09956588, -0.07335629,\n",
              "       -0.04671084, -0.0196234 ,  0.00791222,  0.03590229,  0.06435317])"
            ]
          },
          "metadata": {},
          "execution_count": 17
        }
      ]
    },
    {
      "cell_type": "code",
      "source": [
        "x=1.\n",
        "y=1.1"
      ],
      "metadata": {
        "id": "LKp3LePqYPcd"
      },
      "execution_count": null,
      "outputs": []
    },
    {
      "cell_type": "code",
      "source": [
        "a = -1\n",
        "b = 20\n",
        "c=a\n",
        "epsilon=1E-5\n",
        "iter=0\n",
        "NmaxIter = 1000\n",
        "while( (abs(f(c))>=epsilon) & (f(a)*f(b)<0) & (iter<NmaxIter)):\n",
        "  c=(a+b)*0.5\n",
        "  #print(\"hola\")\n",
        "  if(f(c)>0):\n",
        "    b=c\n",
        "  else:\n",
        "    a=c\n",
        "  iter=iter+1\n",
        "  if(iter==NmaxIter):\n",
        "    print(f\"No se alcanza la presición deseada, número  \\\n",
        "          máximo de iteraciones superado Nmax={NmaxIter}\")\n",
        "\n",
        "#Actividad\n",
        "def bisection(a, b, f, tolerencia):\n",
        "\n",
        "  return root"
      ],
      "metadata": {
        "colab": {
          "base_uri": "https://localhost:8080/",
          "height": 141
        },
        "id": "_KBLVnkvYat3",
        "outputId": "3c4f3d71-f4b8-41b9-d66d-ad6f010e9ea9"
      },
      "execution_count": null,
      "outputs": [
        {
          "output_type": "error",
          "ename": "SyntaxError",
          "evalue": "ignored",
          "traceback": [
            "\u001b[0;36m  File \u001b[0;32m\"<ipython-input-77-db2f32211858>\"\u001b[0;36m, line \u001b[0;32m19\u001b[0m\n\u001b[0;31m    ·ACtividad\u001b[0m\n\u001b[0m    ^\u001b[0m\n\u001b[0;31mSyntaxError\u001b[0m\u001b[0;31m:\u001b[0m invalid character '·' (U+00B7)\n"
          ]
        }
      ]
    },
    {
      "cell_type": "code",
      "source": [],
      "metadata": {
        "id": "8Dv4uy48lvMz"
      },
      "execution_count": null,
      "outputs": []
    }
  ]
}