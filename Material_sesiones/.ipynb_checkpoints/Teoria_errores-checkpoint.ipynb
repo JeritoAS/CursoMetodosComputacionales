{
 "cells": [
  {
   "cell_type": "markdown",
   "metadata": {
    "id": "iKRvhqjFiIsa"
   },
   "source": [
    "<a href=\"https://colab.research.google.com/github/hernansalinas/CursoMetodosComputacionales/blob/main/Material_sesiones/Teoria_errores.ipynb\" target=\"_parent\"><img src=\"https://colab.research.google.com/assets/colab-badge.svg\" alt=\"Open In Colab\"/></a>"
   ]
  },
  {
   "cell_type": "markdown",
   "metadata": {
    "id": "59pEH6kU2uCc"
   },
   "source": [
    "# Errores en la computación\n",
    "\n",
    "##Objetivo:\n",
    "- Representacion binaria 32 bit y 64 bits\n",
    "- Entener el $\\epsilon$ de la máquina\n",
    "- Tipos de errores\n"
   ]
  },
  {
   "cell_type": "code",
   "execution_count": null,
   "metadata": {
    "id": "dhMcVj05BX8o"
   },
   "outputs": [],
   "source": [
    "#Este notebook permite analizar los errores en la computación.\n",
    "#Librerias\n",
    "import math as mt\n",
    "import numpy as np\n",
    "import matplotlib.pylab as plt"
   ]
  },
  {
   "cell_type": "markdown",
   "metadata": {
    "id": "gc7CYhm9KarB"
   },
   "source": [
    "\n",
    "## Código Escrito correctamente\n",
    "Código Escrito correctamente"
   ]
  },
  {
   "cell_type": "code",
   "execution_count": null,
   "metadata": {
    "colab": {
     "base_uri": "https://localhost:8080/"
    },
    "id": "1FV9wcgGKcMV",
    "outputId": "c2714c7b-8b61-466c-ba43-b99e88a7fb94"
   },
   "outputs": [
    {
     "name": "stdout",
     "output_type": "stream",
     "text": [
      "La probabilidad de que el codigo este mal escrito es de: 0.496\n"
     ]
    }
   ],
   "source": [
    "N = 1000   # El número de lineas en un programa.\n",
    "p = 0.9993 # Probabilidad de que cada linea este correcta\n",
    "P = p ** N # Probabilidad total, p1*p2*p3*p4*p5...pN, estadísticamente independientes.\n",
    "\n",
    "print(\"La probabilidad de que el codigo este mal escrito es de: {0:.3f}\".format(P))"
   ]
  },
  {
   "cell_type": "code",
   "execution_count": null,
   "metadata": {
    "colab": {
     "base_uri": "https://localhost:8080/"
    },
    "id": "X7x6v7SY1J4G",
    "outputId": "86de1011-a6f9-4134-95ff-5fc0c9b6ba5a"
   },
   "outputs": [
    {
     "data": {
      "text/plain": [
       "0.49646359850235483"
      ]
     },
     "execution_count": 3,
     "metadata": {},
     "output_type": "execute_result"
    }
   ],
   "source": [
    "p = 0.9993 # Probabilidad de que cada linea este correcta\n",
    "P = p ** N # Probabilidad total, p1*p2*p3*p4*p5...pN, estadísticamente independientes.\n",
    "P"
   ]
  },
  {
   "cell_type": "markdown",
   "metadata": {
    "id": "-UWzbnGFiZta"
   },
   "source": [
    "# Representacion de numeros de 32 bit\n",
    "Un numero de 32 bit esta, esta representado de la siguiente forma:\n",
    "\n",
    "\n",
    "*Precisión simple (32 bits)**:\n",
    "\n",
    "**Signo (1 bit)**: El bit más significativo representa el signo del número. 0 para positivo y 1 para negativo.\n",
    "\n",
    "**Exponente (8 bits)**: El campo del exponente necesita representar exponentes positivos y negativos. Se agrega un sesgo (bias) al exponente real para obtener el exponente almacenado.\n",
    "\n",
    "**Mantisa normalizada (23 bits)**: La mantisa es la parte significativa del número en notación científica o en punto flotante. En este caso, solo hay un 1 a la izquierda del punto decimal.\n",
    "\n",
    "\n",
    "\\begin{equation}\n",
    "r = \\frac{(-1)^s}{2^{127-e}}\\left(1+\\sum_{i=0}^{22}\\frac{b_i}{2^{23-i}} \\right)\n",
    "\\end{equation}"
   ]
  },
  {
   "cell_type": "markdown",
   "metadata": {
    "id": "KRwq5-PBi74A"
   },
   "source": [
    "\n",
    "![image.png](data:image/png;base64,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)"
   ]
  },
  {
   "cell_type": "markdown",
   "metadata": {
    "id": "r_Gy9gQ6jKNQ"
   },
   "source": [
    "\n",
    "# 32 bit\n",
    "\n",
    "### Máximo número\n",
    "La representacion anterior quiere decir $ \\mathrm{sig}\\times (\\mathrm{fraction})^{\\mathrm{exponente}-127}$\n",
    "\n",
    "\n",
    "Asi, podemos determinar el máximo valor en esa representación, como sigue:\n",
    "\n",
    "- Supongamos que los 23 primeros bit tiene valor de 1, asi\n",
    "  \n",
    "  b[0:23]= \"11111111111111111111111\"\n",
    "\n",
    "  el valor al que se corresponde nos daria:\n",
    "\n",
    "  $2^{-1} + 2^{-2} + 2^{-3} + 2^{-4} + 2^{-5} + 2^{-6} + ...+2^{-23}= 1.999999761581421$\n",
    "\n",
    "\n",
    "Lo anterior implica que el máximo número que podemos representar con la fracción es el valor de $\\approx 2$.\n",
    "\n",
    "- Supongamos que los 8 bit del exponente son  1, asi:\n",
    "\n",
    "  b[23:31]= \"11111111\",   el valor al que se corresponde nos daria:\n",
    "\n",
    "  $2^{0}+2^{1} + 2^{2} + 2^{3} + 2^{4} + 2^{5} + 2^{6} + 2^{7} = 255 $\n",
    "  \n",
    "  para considerar también exponente negativos, tenemos que\n",
    "\n",
    "Lo anterior implica que el máximo número que podemos representar es:\n",
    "\n",
    "\n",
    "$ \\mathrm{sig}\\times (\\mathrm{fraction})^{\\mathrm{exponente}}=+2^{255-127}=+2^{128}$\n",
    "\n",
    "\n",
    "\n",
    "$x_{max}=2^{128}$, si tomamos una representacion logaritmica para trabajar en potencias de 10, tenemos que:\n",
    "\n",
    "$\\log_{10} 2^{128} = \\log_{10} x_{max} $, es decir que:\n",
    "\n",
    "$128\\log_{10}2 =  \\log_{10} x_{max}  $\n",
    "\n",
    "$\\log_{10} x_{max} \\approx 38$,  Suponiendo que $x_max=10^{a}$, siendo a la potencia, tenemos que el valor maximo que podemos representar es de:\n",
    "\n",
    "$10^a=10^{38}$\n",
    "\n",
    "\n",
    "\n",
    "## Mínimo número\n",
    "\n",
    "En este caso el exponente es 0, luego nos queda que:\n",
    "$ \\mathrm{sig}\\times (\\mathrm{fraction})^{\\mathrm{exponente}}=+2^{0-127}=+2^{-127}$\n",
    "Queda del orden de $10^{-39}$\n",
    "\n",
    "\n",
    "Así en 32 bit, la minima y maxima representacion de numeros que tenemos es de:\n",
    "\n",
    "$10^{-39}<x<10^{+38}$\n",
    "\n",
    "## Overflow y underflow en 32 bit\n",
    "\n",
    "Desbordamiento aritmético presente cuando un número binario almacenado en un registro supera su valor máximo, es decir, se requiere más bits de los permitidos, este se da con números muy grades o muy pequeños,  \n",
    "```c\n",
    "      Overflow }---------------{----0----}--------------{ Overflow\n",
    "                                underflow\n",
    "```\n",
    "El rango de un de (32 bits) está en el intervalo $10^{-38} < x < 10^{38}$, es decir  que cualquier número fuera de este rango necesita más de 32 bits para ser representado, si $x$ es muy grande hay *overflow* y si es muy pequeño hay *underflow*.\n"
   ]
  },
  {
   "cell_type": "markdown",
   "metadata": {
    "id": "sjsZUL7tync1"
   },
   "source": [
    "\n",
    "## 64 bit\n",
    "Cuando la representacion es a 64 bit, tenemos que, el exponente puede tomar el valor de :\n",
    "\n",
    "\n",
    "# Representacion de numeros de 32 bit\n",
    "Un numero de 32 bit esta, esta representado de la siguiente forma:\n",
    "\n",
    "\n",
    "**Precisión simple (64 bits)**:\n",
    "\n",
    "**Signo (1 bit)**: El bit más significativo representa el signo del número. 0 para positivo y 1 para negativo.\n",
    "\n",
    "**Exponente (11 bits)**: El campo del exponente necesita representar exponentes positivos y negativos. Se agrega un sesgo (bias) al exponente real para obtener el exponente almacenado.\n",
    "\n",
    "**Mantisa  (52 bits)**: La mantisa es la parte significativa del número en notación científica o en punto flotante. En este caso, solo hay un 1 a la izquierda del punto decimal.\n",
    "\n",
    "\n",
    "\\begin{equation}\n",
    "r = \\frac{(-1)^s}{2^{1024-e}}\\left(1+\\sum_{i=0}^{52}\\frac{b_i}{2^{52-i}} \\right)\n",
    "\\end{equation}\n",
    "\n",
    "\n",
    "![image.png](data:image/png;base64,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)\n",
    "\n"
   ]
  },
  {
   "cell_type": "markdown",
   "metadata": {
    "id": "aE4n4iMQzdJN"
   },
   "source": [
    "\n",
    "## El maximo número en 64 bit  es:\n",
    "\n",
    "$ \\mathrm{sig}\\times (\\mathrm{fraction})^{\\mathrm{exponente}-1024}=+2^{2047-1023}$\n",
    "\n",
    "\n",
    "En potencias de 10 seria:\n",
    "$1024\\log_{10}2 =  \\log_{10} x_{max}  $\n",
    "\n",
    "$10^a=10^{308}$\n",
    "\n",
    "\n",
    "\n",
    "\n",
    "## Mínimo número en 64 bit es:\n",
    "\n",
    "En este caso el exponente es 0, luego nos queda que:\n",
    "$ \\mathrm{sig}\\times (\\mathrm{fraction})^{\\mathrm{exponente}}=+2^{0-1023}=+2^{-1023}$\n",
    "\n",
    "\n",
    "Así en 64 bit, la minima y maxima representacion de numeros que tenemos es de:\n",
    "\n",
    "$10^{-325}<x<10^{+308}$\n",
    "\n",
    "## Overflow y underflow en 64 bit\n",
    "\n",
    "Desbordamiento aritmético presente cuando un número binario almacenado en un registro supera su valor máximo, es decir, se requiere más bits de los permitidos, este se da con números muy grades o muy pequeños,  \n",
    "```c\n",
    "      Overflow }---------------{----0----}--------------{ Overflow\n",
    "                                underflow\n",
    "```\n",
    "El rango de un de (64 bits) está en el intervalo $10^{-309} < x < 10^{308}$, es decir  que cualquier número fuera de este rango necesita más de 32 bits para ser representado, si $x$ es muy grande hay *overflow* y si es muy pequeño hay *underflow*.\n",
    "\n"
   ]
  },
  {
   "cell_type": "code",
   "execution_count": null,
   "metadata": {
    "colab": {
     "base_uri": "https://localhost:8080/"
    },
    "id": "ZwEvOCVS60pX",
    "outputId": "b64f3eb9-1c3d-494f-fee7-bbfb97e813b4"
   },
   "outputs": [
    {
     "name": "stdout",
     "output_type": "stream",
     "text": [
      "0 4.49423283715579e+307\n",
      "1 8.98846567431158e+307\n",
      "2 inf\n",
      "3 inf\n",
      "4 inf\n",
      "5 inf\n",
      "6 inf\n",
      "7 inf\n",
      "8 inf\n",
      "9 inf\n"
     ]
    }
   ],
   "source": [
    "# Overflow\n",
    "large = 2.**1021\n",
    "for i in range(10):\n",
    "  large *=2\n",
    "  print(i, large)"
   ]
  },
  {
   "cell_type": "code",
   "execution_count": 1,
   "metadata": {
    "colab": {
     "base_uri": "https://localhost:8080/"
    },
    "id": "IZQuGP77610X",
    "outputId": "5721ed06-ad9c-4e80-9232-a6c772bb7ae9"
   },
   "outputs": [
    {
     "name": "stdout",
     "output_type": "stream",
     "text": [
      "0 4.0474e-320\n",
      "1 2.0237e-320\n",
      "2 1.012e-320\n",
      "3 5.06e-321\n",
      "4 2.53e-321\n",
      "5 1.265e-321\n",
      "6 6.3e-322\n",
      "7 3.16e-322\n",
      "8 1.6e-322\n",
      "9 8e-323\n",
      "10 4e-323\n",
      "11 2e-323\n",
      "12 1e-323\n",
      "13 5e-324\n",
      "14 0.0\n",
      "15 0.0\n",
      "16 0.0\n",
      "17 0.0\n",
      "18 0.0\n",
      "19 0.0\n"
     ]
    }
   ],
   "source": [
    "\n",
    "# underflow\n",
    "# Explicacion basasda en, el hecho de que sea menor que 10-307 \n",
    "#https://es.wikipedia.org/wiki/N%C3%BAmero_subnormal\n",
    "small = 2.**(-1060)\n",
    "for i in range(20):\n",
    "  small /=2\n",
    "  print(i, small)"
   ]
  },
  {
   "cell_type": "markdown",
   "metadata": {
    "id": "w8nK91Bv6lWq"
   },
   "source": [
    "# **Presición de la máquina**\n",
    "\n",
    "\n",
    "Para explicar cada unos de los errores en computación es importante notar\n",
    "que los  computadores estan construidos en sus estructura más basica con compuertas and, or. Lo que lleva a un presicion finita en la máquina. ¿Cuál es el valor más pequeño que puede procesar un computador?\n",
    "\n",
    "\n",
    "Es el número más pequeno (posible ) x más grande que 1. Para determinarlo\n",
    "se puede dividir el número 1 entre 2 (maximo valor del sistema binario),  hasta obtener el minimo valor que puede ser sumado a 1"
   ]
  },
  {
   "cell_type": "code",
   "execution_count": null,
   "metadata": {
    "colab": {
     "base_uri": "https://localhost:8080/"
    },
    "id": "gVGE7laa7yWm",
    "outputId": "4d7ea090-37a3-4130-d081-52c8aa247076"
   },
   "outputs": [
    {
     "name": "stdout",
     "output_type": "stream",
     "text": [
      "0 1.5 0.5\n",
      "1 1.25 0.25\n",
      "2 1.125 0.125\n",
      "3 1.0625 0.0625\n",
      "4 1.03125 0.03125\n",
      "5 1.015625 0.015625\n",
      "6 1.0078125 0.0078125\n",
      "7 1.00390625 0.00390625\n",
      "8 1.001953125 0.001953125\n",
      "9 1.0009765625 0.0009765625\n",
      "10 1.00048828125 0.00048828125\n",
      "11 1.000244140625 0.000244140625\n",
      "12 1.0001220703125 0.0001220703125\n",
      "13 1.00006103515625 6.103515625e-05\n",
      "14 1.000030517578125 3.0517578125e-05\n",
      "15 1.0000152587890625 1.52587890625e-05\n",
      "16 1.0000076293945312 7.62939453125e-06\n",
      "17 1.0000038146972656 3.814697265625e-06\n",
      "18 1.0000019073486328 1.9073486328125e-06\n",
      "19 1.0000009536743164 9.5367431640625e-07\n",
      "20 1.0000004768371582 4.76837158203125e-07\n",
      "21 1.000000238418579 2.384185791015625e-07\n",
      "22 1.0000001192092896 1.1920928955078125e-07\n",
      "23 1.0000000596046448 5.960464477539063e-08\n",
      "24 1.0000000298023224 2.9802322387695312e-08\n",
      "25 1.0000000149011612 1.4901161193847656e-08\n",
      "26 1.0000000074505806 7.450580596923828e-09\n",
      "27 1.0000000037252903 3.725290298461914e-09\n",
      "28 1.0000000018626451 1.862645149230957e-09\n",
      "29 1.0000000009313226 9.313225746154785e-10\n",
      "30 1.0000000004656613 4.656612873077393e-10\n",
      "31 1.0000000002328306 2.3283064365386963e-10\n",
      "32 1.0000000001164153 1.1641532182693481e-10\n",
      "33 1.0000000000582077 5.820766091346741e-11\n",
      "34 1.0000000000291038 2.9103830456733704e-11\n",
      "35 1.000000000014552 1.4551915228366852e-11\n",
      "36 1.000000000007276 7.275957614183426e-12\n",
      "37 1.000000000003638 3.637978807091713e-12\n",
      "38 1.000000000001819 1.8189894035458565e-12\n",
      "39 1.0000000000009095 9.094947017729282e-13\n",
      "40 1.0000000000004547 4.547473508864641e-13\n",
      "41 1.0000000000002274 2.2737367544323206e-13\n",
      "42 1.0000000000001137 1.1368683772161603e-13\n",
      "43 1.0000000000000568 5.684341886080802e-14\n",
      "44 1.0000000000000284 2.842170943040401e-14\n",
      "45 1.0000000000000142 1.4210854715202004e-14\n",
      "46 1.000000000000007 7.105427357601002e-15\n",
      "47 1.0000000000000036 3.552713678800501e-15\n",
      "48 1.0000000000000018 1.7763568394002505e-15\n",
      "49 1.0000000000000009 8.881784197001252e-16\n",
      "50 1.0000000000000004 4.440892098500626e-16\n",
      "51 1.0000000000000002 2.220446049250313e-16\n",
      "52 1.0 1.1102230246251565e-16\n",
      "53 1.0 5.551115123125783e-17\n",
      "54 1.0 2.7755575615628914e-17\n",
      "55 1.0 1.3877787807814457e-17\n",
      "56 1.0 6.938893903907228e-18\n",
      "57 1.0 3.469446951953614e-18\n",
      "58 1.0 1.734723475976807e-18\n",
      "59 1.0 8.673617379884035e-19\n",
      "60 1.0 4.336808689942018e-19\n",
      "61 1.0 2.168404344971009e-19\n",
      "62 1.0 1.0842021724855044e-19\n",
      "63 1.0 5.421010862427522e-20\n"
     ]
    }
   ],
   "source": [
    "eps = 1\n",
    "Nv = 64\n",
    "for n in range(Nv):\n",
    "    eps = eps / 2.0\n",
    "    one = 1. + eps\n",
    "    print(n, one, eps)"
   ]
  },
  {
   "cell_type": "markdown",
   "metadata": {
    "id": "KolcMEmd7zBy"
   },
   "source": [
    "# Tarea, Representacion decimal en 32 bit"
   ]
  },
  {
   "cell_type": "markdown",
   "metadata": {
    "id": "1p_qdn3W6Sa0"
   },
   "source": [
    "Para el siguiebnte numero miremos la representacion decimal:\n",
    "\n",
    "`b0 = \"00111110001000000000000000000000\"`\n"
   ]
  },
  {
   "cell_type": "code",
   "execution_count": null,
   "metadata": {
    "id": "30c4DsS21MRk"
   },
   "outputs": [],
   "source": [
    "b0 = \"00111110001000000000000000000000\"\n",
    "#b = b0[::-1]\n",
    "# Identificacion de la posicinos\n",
    "#pos_signo = b[31]\n",
    "#pos_exponente = b[23:31]\n",
    "#pos_fraccion = b[0:23]\n",
    "#len(pos_signo), len(pos_exponente), len(pos_fraccion)"
   ]
  },
  {
   "cell_type": "code",
   "execution_count": null,
   "metadata": {
    "colab": {
     "base_uri": "https://localhost:8080/"
    },
    "id": "KlUVzq9pGMxE",
    "outputId": "e128b4f5-d4ac-4b68-bab9-df29e178e28a"
   },
   "outputs": [
    {
     "name": "stdout",
     "output_type": "stream",
     "text": [
      "00000000000000000000010\n",
      "00111110\n",
      "0000000000000000000001000111110\n"
     ]
    }
   ],
   "source": [
    "print(b[0:23])\n",
    "print(b[23:31])\n",
    "print(b[0:31])"
   ]
  },
  {
   "cell_type": "markdown",
   "metadata": {
    "id": "mt5NiMZ67DZl"
   },
   "source": [
    "$e=\\sum_{i=0}^7 b_{23+i} 2^i$"
   ]
  },
  {
   "cell_type": "code",
   "execution_count": null,
   "metadata": {
    "colab": {
     "base_uri": "https://localhost:8080/"
    },
    "id": "miCaUjXi5wpG",
    "outputId": "6f70efd0-4f03-4576-d4ac-827cef6b3b85"
   },
   "outputs": [
    {
     "data": {
      "text/plain": [
       "0.15625"
      ]
     },
     "execution_count": 125,
     "metadata": {},
     "output_type": "execute_result"
    }
   ],
   "source": [
    "def e_(pos_exponente):\n",
    "  e = 0\n",
    "  for i in range(0, 8):\n",
    "    e = e + int(pos_exponente[i]) * 2**i\n",
    "  return e\n",
    "\n",
    "def fraccion(pos_fraccion):\n",
    "  s=0\n",
    "  for i in range(0,22):\n",
    "    s = s + int(pos_fraccion[i])/2**(23-i)\n",
    "  return s\n",
    "\n",
    "e=e_(b[23:31])\n",
    "f=fraccion(b[0:23])\n",
    "(-1)**int(b[31])/(2**(127-e)) *(1 + f )"
   ]
  },
  {
   "cell_type": "markdown",
   "metadata": {
    "id": "noun1jzn7_BC"
   },
   "source": [
    "# ## Tipos de errores.\n",
    "\n",
    ">- ### Blunder or bad theory\n",
    "Errores tipográficos de entrada, errores en los datos, razonamientos teoricos malos, entre otros.\n",
    ">- ### Errores aleatorios.\n",
    "Impresiones causadas por eventos tales como fluctuaciones electronicas, rayos cósmicos. Se se presentan rara vez, y y tiene una mayor probabilidad de ocurrir cuando los calculos se demoran del orden de semanas.\n",
    ">- ### Errores de aproximación:\n",
    "Se presentan por truncamiento de los modelos numéricos, por ejemplol si consideramos la serie asociada a la función\n",
    "$\\sin x$:\n",
    "\n",
    "\\begin{equation}\n",
    "\\sin x = \\sum_{n=1}^{\\infty} \\frac{(-1)^{n-1}x^{2n-1}}{(2n-1)!}\n",
    "\\end{equation}\n",
    "\n",
    "\n",
    "\\begin{equation}\n",
    "\\sin x = \\sum_{n=1}^{N} \\frac{(-1)^{n-1}x^{2n-1}}{(2n-1)!} + \\varepsilon(x, N)\n",
    "\\end{equation}\n",
    "\n",
    "\n",
    "> El error numérico  en el calculo computacional es del orden de  $\\varepsilon(x, N)$, dado que el computador debe truncar la serie en un N determinado.\n",
    "\n",
    "\n",
    ">- ### Errores de redondeo:\n",
    "Análogos a los errores  de  cantidad experimentales,\n",
    "\n",
    "\n",
    "\n"
   ]
  },
  {
   "cell_type": "code",
   "execution_count": null,
   "metadata": {
    "colab": {
     "base_uri": "https://localhost:8080/"
    },
    "id": "mvYiwhZm4Ux0",
    "outputId": "51a30c10-23f3-4746-9e8c-4247627ec8bd"
   },
   "outputs": [
    {
     "name": "stdout",
     "output_type": "stream",
     "text": [
      "The integer value of number is: 3\n",
      "The ceil value of number is: 4\n",
      "The integer value of number is: 3\n"
     ]
    }
   ],
   "source": [
    "# Errores de truncamiento\n",
    "\n",
    "a = np.pi\n",
    "print(\"The integer value of number is: \", end=\"\")\n",
    "print(mt.trunc(a))\n",
    "\n",
    "print(\"The ceil value of number is: \", end=\"\")\n",
    "print(mt.ceil(a))\n",
    "\n",
    "print(\"The integer value of number is: \", end=\"\")\n",
    "print(mt.floor(a))\n"
   ]
  },
  {
   "cell_type": "code",
   "execution_count": null,
   "metadata": {
    "colab": {
     "base_uri": "https://localhost:8080/"
    },
    "id": "cJss8Shp4Ux5",
    "outputId": "6fba3933-c5ae-4de3-dfb0-a08b8bf9c1f7"
   },
   "outputs": [
    {
     "name": "stdout",
     "output_type": "stream",
     "text": [
      "The integral value of number is: 3.142\n",
      "The integral value of number is: 3.142\n",
      "The integral value of number is: 3.142\n"
     ]
    }
   ],
   "source": [
    "print(\"The integral value of number is: \", end=\"\")\n",
    "print(\"%.3f\" %a)\n",
    "\n",
    "print(\"The integral value of number is: \", end=\"\")\n",
    "print(\"{0:.3f}\".format(a))\n",
    "\n",
    "\n",
    "print(\"The integral value of number is: \", end=\"\")\n",
    "print(round(a,3))\n"
   ]
  },
  {
   "cell_type": "markdown",
   "metadata": {
    "id": "9w2oakLnRH49"
   },
   "source": [
    "# Comparacion de floats"
   ]
  },
  {
   "cell_type": "code",
   "execution_count": null,
   "metadata": {
    "colab": {
     "base_uri": "https://localhost:8080/"
    },
    "id": "D8ogqUHrRLd7",
    "outputId": "2cbf2839-bfae-47e6-80a4-e59e86fe8312"
   },
   "outputs": [
    {
     "data": {
      "text/plain": [
       "False"
      ]
     },
     "execution_count": 110,
     "metadata": {},
     "output_type": "execute_result"
    }
   ],
   "source": [
    "xt = 0.1 + 0.2\n",
    "xt\n",
    "yt = 0.3\n",
    "\n",
    "xt == yt # ¿Porqué?"
   ]
  },
  {
   "cell_type": "code",
   "execution_count": null,
   "metadata": {
    "colab": {
     "base_uri": "https://localhost:8080/"
    },
    "id": "SjfrKFgPCmzC",
    "outputId": "941357b7-891c-433e-8c2f-e4b40bd87d7c"
   },
   "outputs": [
    {
     "data": {
      "text/plain": [
       "16"
      ]
     },
     "execution_count": 111,
     "metadata": {},
     "output_type": "execute_result"
    }
   ],
   "source": [
    "2**4"
   ]
  },
  {
   "cell_type": "code",
   "execution_count": null,
   "metadata": {
    "colab": {
     "base_uri": "https://localhost:8080/"
    },
    "id": "Xz98H92KNUTp",
    "outputId": "2fda1a99-7f83-4080-8f27-df4dfd9bb370"
   },
   "outputs": [
    {
     "data": {
      "text/plain": [
       "0.09375"
      ]
     },
     "execution_count": 112,
     "metadata": {},
     "output_type": "execute_result"
    }
   ],
   "source": [
    "2**(-4)+2**(-5)"
   ]
  },
  {
   "cell_type": "code",
   "execution_count": null,
   "metadata": {
    "colab": {
     "base_uri": "https://localhost:8080/"
    },
    "id": "qki1EVX2RRrC",
    "outputId": "c931f62f-8e81-40ba-9477-772dc160d663"
   },
   "outputs": [
    {
     "data": {
      "text/plain": [
       "0.7"
      ]
     },
     "execution_count": 113,
     "metadata": {},
     "output_type": "execute_result"
    }
   ],
   "source": [
    "0.1 + 0.1 + 0.1 +0.1+0.1+0.1+0.1"
   ]
  },
  {
   "cell_type": "code",
   "execution_count": null,
   "metadata": {
    "colab": {
     "base_uri": "https://localhost:8080/"
    },
    "id": "kJOh3km1P1zW",
    "outputId": "096945b2-62ad-4396-8c3d-e82e940bf951"
   },
   "outputs": [
    {
     "data": {
      "text/plain": [
       "0.30000000000000004"
      ]
     },
     "execution_count": 114,
     "metadata": {},
     "output_type": "execute_result"
    }
   ],
   "source": [
    "3*0.1"
   ]
  },
  {
   "cell_type": "code",
   "execution_count": null,
   "metadata": {
    "colab": {
     "base_uri": "https://localhost:8080/"
    },
    "id": "dkbsZxSvRTT3",
    "outputId": "7eaf6da7-c470-4178-9da8-4faca482e40e"
   },
   "outputs": [
    {
     "data": {
      "text/plain": [
       "True"
      ]
     },
     "execution_count": 115,
     "metadata": {},
     "output_type": "execute_result"
    }
   ],
   "source": [
    "abs(xt - yt) < 1E-16"
   ]
  },
  {
   "cell_type": "code",
   "execution_count": null,
   "metadata": {
    "id": "PHGzOb94RWSP"
   },
   "outputs": [],
   "source": [
    "xt = 12345678.912345678\n",
    "yt = 12345678.9123456785\n"
   ]
  },
  {
   "cell_type": "code",
   "execution_count": null,
   "metadata": {
    "colab": {
     "base_uri": "https://localhost:8080/"
    },
    "id": "EAZXvU52RaXz",
    "outputId": "d5ff2f3e-e1a7-4c9d-be59-b673c546cba8"
   },
   "outputs": [
    {
     "data": {
      "text/plain": [
       "True"
      ]
     },
     "execution_count": 117,
     "metadata": {},
     "output_type": "execute_result"
    }
   ],
   "source": [
    "xt==yt\n"
   ]
  },
  {
   "cell_type": "markdown",
   "metadata": {
    "id": "VVDQ_eH5Jjxw"
   },
   "source": [
    "# Errores de redondeo:\n",
    "## Cancelacion substractiva\n",
    "\n",
    "Sea $b_c = b (1+ \\epsilon)$ y Sea $c_c = c (1+ \\epsilon)$ La representacion de dos números en el computador.  Calculemos la diferencia entre estos dos números:\n",
    "\n",
    "\n",
    "$a_c = (b-c) + b\\epsilon_b -c\\epsilon_c = a+ b\\epsilon_b -c\\epsilon_c$\n",
    "\n",
    "$\\frac{a_c}{a} = 1 + \\frac{b}{a}\\epsilon_b -\\frac{c}{a}\\epsilon_c $\n",
    "\n",
    "$\\frac{a_c}{a} = 1 + \\frac{b}{a} \\max(\\epsilon_b,\\epsilon_c) $\n",
    "\n",
    "Si $b\\approx c$, el valor de a es un valor muy grande.\n",
    "\n",
    "\n",
    "\n"
   ]
  },
  {
   "cell_type": "code",
   "execution_count": null,
   "metadata": {
    "id": "O-SP8rPyDQ34"
   },
   "outputs": [],
   "source": [
    "import numpy as np"
   ]
  },
  {
   "cell_type": "code",
   "execution_count": null,
   "metadata": {
    "colab": {
     "base_uri": "https://localhost:8080/"
    },
    "id": "wqrGTlWw1OUR",
    "outputId": "772ed965-ee2d-41a5-e61a-1b1d877b3851"
   },
   "outputs": [
    {
     "name": "stdout",
     "output_type": "stream",
     "text": [
      "1.9073486e-06\n"
     ]
    },
    {
     "data": {
      "text/plain": [
       "0.002822711132466793"
      ]
     },
     "execution_count": 42,
     "metadata": {},
     "output_type": "execute_result"
    }
   ],
   "source": [
    "print(np.float32(12.123452) - np.float32(12.123450))\n",
    "valor_real = 0.000002\n",
    "\n",
    "(12.123452/valor_real)*1/(2**31)"
   ]
  },
  {
   "cell_type": "code",
   "execution_count": null,
   "metadata": {
    "colab": {
     "base_uri": "https://localhost:8080/"
    },
    "id": "AeDXTAN7OTcn",
    "outputId": "3991a0b8-e946-4f19-a28b-bb608ad0267e"
   },
   "outputs": [
    {
     "name": "stdout",
     "output_type": "stream",
     "text": [
      "0.0\n",
      "5.0\n",
      "¿Cual es la diferencia entre estas dos restas?\n"
     ]
    }
   ],
   "source": [
    "print(np.float32(1234567895) - np.float32(1234567890))\n",
    "print(np.float64(1234567895) - np.float64(1234567890))\n",
    "print(\"¿Cual es la diferencia entre estas dos restas?\")"
   ]
  },
  {
   "cell_type": "code",
   "execution_count": null,
   "metadata": {
    "colab": {
     "base_uri": "https://localhost:8080/"
    },
    "id": "O5uQVd-TZmPQ",
    "outputId": "006fcd80-03c9-436f-ad5e-6809765e62c6"
   },
   "outputs": [
    {
     "name": "stdout",
     "output_type": "stream",
     "text": [
      "4.0\n",
      "5.0\n",
      "¿Cual es la diferencia entre estas dos restas?\n"
     ]
    }
   ],
   "source": [
    "print(np.float32(12345675) - np.float32(12345671))\n",
    "print(np.float64(1234567895) - np.float64(1234567890))\n",
    "print(\"¿Cual es la diferencia entre estas dos restas?\")"
   ]
  },
  {
   "cell_type": "code",
   "execution_count": null,
   "metadata": {
    "colab": {
     "base_uri": "https://localhost:8080/"
    },
    "id": "gSutoSLxR7A1",
    "outputId": "aa3a2b60-8cc1-4425-870a-675d869921d3"
   },
   "outputs": [
    {
     "data": {
      "text/plain": [
       "1.9073486328125e-06"
      ]
     },
     "execution_count": 45,
     "metadata": {},
     "output_type": "execute_result"
    }
   ],
   "source": [
    "xt = 12345678912.345678\n",
    "yt = 12345678912.345677\n",
    "xt-yt"
   ]
  },
  {
   "cell_type": "code",
   "execution_count": null,
   "metadata": {
    "colab": {
     "base_uri": "https://localhost:8080/"
    },
    "id": "7I__xYI7Sq98",
    "outputId": "67bd8bb6-fd86-4eaf-f958-1e36bf6ceaec"
   },
   "outputs": [
    {
     "data": {
      "text/plain": [
       "-9.999999999999995e-17"
      ]
     },
     "execution_count": 46,
     "metadata": {},
     "output_type": "execute_result"
    }
   ],
   "source": [
    "xt = 0.0000000000000005\n",
    "yt = 0.0000000000000006\n",
    "xt-yt"
   ]
  },
  {
   "cell_type": "code",
   "execution_count": null,
   "metadata": {
    "colab": {
     "base_uri": "https://localhost:8080/"
    },
    "id": "vqwW1XbkYiOS",
    "outputId": "55a31f4b-f49f-4a3a-d2b6-be1ef1222402"
   },
   "outputs": [
    {
     "name": "stdout",
     "output_type": "stream",
     "text": [
      "1.2345678912e-09\n"
     ]
    }
   ],
   "source": [
    "a = np.float16(1.2345678912345678912)-np.float16(1.2345678900000000000)\n",
    "r = 0.0000000012345678912\n",
    "print(r)"
   ]
  },
  {
   "cell_type": "markdown",
   "metadata": {
    "id": "D7wS4CRCMdcJ"
   },
   "source": [
    "## Errores de acumulación\n",
    "$\\epsilon_{ro}=\\sqrt{N}\\epsilon_m$\n"
   ]
  },
  {
   "cell_type": "code",
   "execution_count": null,
   "metadata": {
    "colab": {
     "base_uri": "https://localhost:8080/"
    },
    "id": "KJA7qyMPOkRH",
    "outputId": "535a0646-ff6c-41ae-c2e3-5d4514051ba9"
   },
   "outputs": [
    {
     "name": "stdout",
     "output_type": "stream",
     "text": [
      "Valor a través de la suma:  100000.00149011612\n",
      "Valor exacto:  100000.0\n",
      "Error  1.4901161193847656e-06\n"
     ]
    }
   ],
   "source": [
    "#Con numeros de 32 bit.\n",
    "eps = np. float64(0)\n",
    "N = 1000000\n",
    "for i in range(0, N):\n",
    " eps = np.float32(0.1) + eps\n",
    "\n",
    "exac = N*0.1\n",
    "error = np.abs(exac-eps) / exac\n",
    "print(\"Valor a través de la suma: \", eps)\n",
    "print(\"Valor exacto: \",  exac)\n",
    "print(\"Error \", error*100 )\n"
   ]
  },
  {
   "cell_type": "markdown",
   "metadata": {
    "id": "rjPq2MFFObTp"
   },
   "source": [
    "\n",
    "## Errores de aproximación.\n",
    " $\\epsilon_{aprox}=\\frac{\\alpha}{N^{\\beta}}$\n"
   ]
  },
  {
   "cell_type": "markdown",
   "metadata": {
    "id": "uisq8TnEOftp"
   },
   "source": [
    "## Error total:\n",
    " $\\epsilon_{aprox} = \\epsilon_{ro}+\\epsilon_{aprox}$\n",
    "\n"
   ]
  },
  {
   "cell_type": "markdown",
   "metadata": {
    "id": "4XGEWL7NN1H-"
   },
   "source": [
    "# Errores de una serie\n",
    "\n",
    "- ¿Converge la serie?\n",
    "- ¿Qué tan preciso es la convergencia?\n",
    "- Costo computacional\n",
    "\n",
    "\n",
    "## Error de una serie\n",
    "Sea $x$ el valor verdadero y $x^*$ el valor aproximado\n",
    "\n",
    "- Error absoluto : se define como\n",
    "\\begin{equation*}\n",
    "\\epsilon_{abs}= |x-x^*|\n",
    "\\end{equation*}\n",
    "- Error relativo : es dado por\n",
    "\\begin{equation*}\n",
    "\\epsilon_{rel}= \\frac{|x-x^*|}{|x|}\n",
    "\\end{equation*}\n",
    "- Error en series : El error para truncar una serie se toma como\n",
    "\\begin{equation*}\n",
    "\\epsilon_{aprox}= \\left|\\frac{nth\\hbox{-term}}{\\hbox{suma}}\\right|< \\hbox{eps}\n",
    "\\end{equation*}\n",
    "La tolerancia normalmente se toma como un número pequeño, por ejemplo `eps` $=10^{-10}$. Note que no se trunca la serie usando $|{nth}\\hbox{-term}|<$ eps,   usar esta forma puede conducir a errores debido a que no se compara con el valor de la suma (un millon compardo a uno es grande, pero comparado a diez mil millones es pequeño).\n",
    "\n",
    "Tomemos como ejemplo otra vez el cálculo de la serie del seno,\n"
   ]
  }
 ],
 "metadata": {
  "colab": {
   "provenance": []
  },
  "kernelspec": {
   "display_name": "Python 3 (ipykernel)",
   "language": "python",
   "name": "python3"
  },
  "language_info": {
   "codemirror_mode": {
    "name": "ipython",
    "version": 3
   },
   "file_extension": ".py",
   "mimetype": "text/x-python",
   "name": "python",
   "nbconvert_exporter": "python",
   "pygments_lexer": "ipython3",
   "version": "3.10.9"
  }
 },
 "nbformat": 4,
 "nbformat_minor": 1
}
