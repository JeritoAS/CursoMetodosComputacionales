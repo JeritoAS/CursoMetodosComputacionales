{
  "nbformat": 4,
  "nbformat_minor": 0,
  "metadata": {
    "colab": {
      "provenance": []
    },
    "kernelspec": {
      "name": "python3",
      "display_name": "Python 3"
    },
    "language_info": {
      "name": "python"
    }
  },
  "cells": [
    {
      "cell_type": "markdown",
      "source": [
        "# Campo electrico\n",
        "\n",
        "Este programa calcula el campo electrico de un dipolo.\n",
        "\n",
        "\n",
        "Caculemos primero el campo en un punto $P=(x_p, y_p)$ generado por una carga\n",
        "\n",
        "\\begin{equation}\n",
        "E = \\frac{1}{4\\pi\\epsilon_0} \\frac{1}{|\\Delta r|^2} \\hat{u_r}=E = k_e \\frac{1}{|\\Delta r|^2} \\hat{u_r}\n",
        "\\end{equation}\n",
        "\n",
        "\n",
        "$\\Delta \\vec{r}=(\\Delta x, \\Delta y)$\n",
        "\n",
        "$|\\Delta \\vec{r}|=\\sqrt{\\Delta x²+ \\Delta y^2}$\n",
        "\n",
        "## Vector unitario\n",
        "\n",
        "$\\hat{u_r}_x=\\frac{\\Delta x}{|\\Delta \\vec{r}|}$\n",
        "\n",
        "$\\hat{u_r}_y=\\frac{\\Delta y}{|\\Delta \\vec{r}|}$\n"
      ],
      "metadata": {
        "id": "HXqIonMkpI9v"
      }
    },
    {
      "cell_type": "code",
      "source": [
        "# librerias\n",
        "import numpy as np\n",
        "import matplotlib.pylab as plt"
      ],
      "metadata": {
        "id": "WJ0isaVor02s"
      },
      "execution_count": null,
      "outputs": []
    },
    {
      "cell_type": "code",
      "source": [],
      "metadata": {
        "id": "0EL4xPrFpRUY"
      },
      "execution_count": null,
      "outputs": []
    },
    {
      "cell_type": "code",
      "source": [
        "def campo_electrico(xp, yp, x1, y1, q1):\n",
        "  \"\"\"\n",
        "  Esta funcion permite deerminar el campo electrico en un punto\n",
        "  xp :\n",
        "  yp :\n",
        "  \"\"\"\n",
        "  DeltaX = xp -x1\n",
        "  DeltaY = yp -y1\n",
        "  Deltar = np.sqrt(DeltaX**2+DeltaY**2)\n",
        "  ux = DeltaX/Deltar\n",
        "  uy = DeltaY/Deltar\n",
        "\n",
        "  Ex = (k*q1/Deltar**2)*ux\n",
        "  Ey = (k*q1/Deltar**2)*uy\n",
        "  E=np.array([Ex, Ey])\n",
        "  return E\n",
        "# Carga 1\n",
        "#Posicion y manitud de la carga\n",
        "q1 = 2 # nano Coulomb\n",
        "x1 = -1\n",
        "y1 = 0\n",
        "#Carga 1\n",
        "#Posicion y manitud de la carga\n",
        "q2 = -2 # nano Coulomb\n",
        "x2 = 1\n",
        "y2 = 0"
      ],
      "metadata": {
        "id": "khELyr9Ivut_"
      },
      "execution_count": null,
      "outputs": []
    },
    {
      "cell_type": "code",
      "source": [
        "#Punto evaluacion\n",
        "xp1= 0.5\n",
        "yp1 = 0.5\n",
        "E1=campo_electrico(xp1, yp1, x1, y1, q1)\n",
        "E2=campo_electrico(xp1, yp1, x2, y2, q2)\n",
        "E11=E1+E2\n",
        "plt.figure()\n",
        "plt.plot(x1, y1,\"ro\" )\n",
        "plt.plot(x2, y2,\"ro\" )\n",
        "plt.plot(xp1, yp1,\"bo\" )\n",
        "plt.quiver(xp1, yp1, E11[0], E11[1])\n",
        "\n",
        "\n",
        "\n",
        "\n",
        "plt.ylim(-0.1, 1.5)\n",
        "plt.show()"
      ],
      "metadata": {
        "colab": {
          "base_uri": "https://localhost:8080/",
          "height": 430
        },
        "id": "hdP2FBg7rzrL",
        "outputId": "19338851-4be8-4dad-cde3-be7d4d066d38"
      },
      "execution_count": null,
      "outputs": [
        {
          "output_type": "display_data",
          "data": {
            "text/plain": [
              "<Figure size 640x480 with 1 Axes>"
            ],
            "image/png": "[encoded data removed]"
          },
          "metadata": {}
        }
      ]
    },
    {
      "cell_type": "code",
      "source": [],
      "metadata": {
        "colab": {
          "base_uri": "https://localhost:8080/",
          "height": 430
        },
        "id": "43d4dKvuu9_d",
        "outputId": "77488c2d-5730-410f-f69f-d5b47705d01f"
      },
      "execution_count": null,
      "outputs": [
        {
          "output_type": "display_data",
          "data": {
            "text/plain": [
              "<Figure size 640x480 with 1 Axes>"
            ],
            "image/png": "[encoded data removed]"
          },
          "metadata": {}
        }
      ]
    },
    {
      "cell_type": "code",
      "source": [],
      "metadata": {
        "id": "C-LuizbEu5V_"
      },
      "execution_count": null,
      "outputs": []
    },
    {
      "cell_type": "code",
      "source": [
        "xp = 1\n",
        "yp = 1\n",
        "E1=campo_electrico(xp, yp, x1, y1, q1)\n",
        "E2=campo_electrico(xp, yp, x2, y2, q2)\n",
        "E=E1+E2\n",
        "print(E1)\n",
        "print(E2)\n",
        "print(E)"
      ],
      "metadata": {
        "colab": {
          "base_uri": "https://localhost:8080/"
        },
        "id": "2YnibdfUr5t4",
        "outputId": "124eac24-e497-49f2-8523-915d913d1265"
      },
      "execution_count": null,
      "outputs": [
        {
          "output_type": "stream",
          "name": "stdout",
          "text": [
            "[0.35777088 0.17888544]\n",
            "[0. 2.]\n",
            "[0.35777088 2.17888544]\n"
          ]
        }
      ]
    },
    {
      "cell_type": "code",
      "source": [
        "E2"
      ],
      "metadata": {
        "colab": {
          "base_uri": "https://localhost:8080/"
        },
        "id": "_BeEXmuMr6if",
        "outputId": "9b86eeca-4358-4122-e555-715958980809"
      },
      "execution_count": null,
      "outputs": [
        {
          "output_type": "execute_result",
          "data": {
            "text/plain": [
              "array([-0.70710678,  0.70710678])"
            ]
          },
          "metadata": {},
          "execution_count": 48
        }
      ]
    },
    {
      "cell_type": "code",
      "source": [],
      "metadata": {
        "id": "axJ8b7Z1tyvz"
      },
      "execution_count": null,
      "outputs": []
    }
  ]
}