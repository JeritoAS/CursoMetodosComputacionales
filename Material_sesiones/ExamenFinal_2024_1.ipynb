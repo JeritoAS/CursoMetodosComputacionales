{
  "cells": [
    {
      "cell_type": "markdown",
      "metadata": {
        "id": "jllwzgAc7X1f"
      },
      "source": [
        "<a href=\"https://colab.research.google.com/github/hernansalinas/CursoMetodosComputacionales/blob/main/Material_sesiones/ExamenFinal_2024_1.ipynb\" target=\"_parent\"><img src=\"https://colab.research.google.com/assets/colab-badge.svg\" alt=\"Open In Colab\"/></a>"
      ]
    },
    {
      "cell_type": "markdown",
      "metadata": {
        "id": "Z22-i0-AW5OZ"
      },
      "source": [
        "# Evaluación final Métodos computacionales\n",
        "\n",
        "Profesor: Hernan D. Salinas\n",
        "\n",
        "Universidad de Antioquia\n",
        "\n",
        "El examen consta de siete puntos, cada uno con igual valor. Puede utilizar librerías para su solución. La entrega se realiza a través de GitHub. El plazo de entrega es el jueves 8 de agosto a las 11:59 pm. Evite el uso de inteligencia artificial.\n",
        "\n",
        "\n",
        "\n",
        "En este examen, estudiaremos la caída de un lápiz en posición vertical. El lápiz puede ser modelado como un cuerpo rígido, cuyas ecuaciones de movimiento respecto a su centro de masa pueden ser expresadas de la siguiente manera, de acuerdo con la imagen mostrada en la figura:\n",
        "\n",
        "\n",
        "\n",
        "![image.png](data:image/png;base64,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)\n"
      ]
    },
    {
      "cell_type": "markdown",
      "metadata": {
        "id": "FrV0lD5F4wrV"
      },
      "source": [
        "## Ecuaciones de movimiento\n",
        "\n",
        "### Ecuaciones de movimiento del centro de masa\n",
        "\n",
        "De acuerdo con la segunda ley de Newton, la ecuación de movimiento a lo largo de la vertical ($y$) puede ser escrita como:\n",
        "\n",
        "\\begin{equation}\n",
        "m\\frac{d^2y}{dt^2} = N - mg\n",
        "\\end{equation}\n",
        "\n",
        "donde $m$ es la masa del lápiz, $N$ es la fuerza normal y $g$ es la aceleración de la gravedad. Escribiendo las ecuaciones en términos del ángulo $\\theta$, tenemos que:\n",
        "\n",
        "\\begin{equation}\n",
        "-m\\frac{l}{2}\\cos \\theta \\left(\\frac{d\\theta}{dt} \\right)^2 - m\\frac{l}{2}\\sin \\theta \\frac{d^2\\theta}{dt^2} = N - mg\n",
        "\\end{equation}\n",
        "\n",
        "### Ecuaciones de rotación del centro de masa\n",
        "\n",
        "La sumatoria de momentos de fuerza se puede escribir como sigue:\n",
        "\n",
        "\\begin{equation}\n",
        "I_c\\frac{d^2\\theta}{dt^2} = N\\frac{l}{2} \\sin \\theta\n",
        "\\end{equation}\n",
        "\n",
        "donde $I_c = \\frac{1}{12}ml^2$ es el momento de inercia de una varilla  de masa $m$ y longitud $l$ respecto a un eje perpendicular a la varilla en su centro de masa.\n",
        "\n",
        "Reemplazando el valor de la normal en la ecuación anterior, obtenemos que la ecuación de movimiento para la posición angular está dada por:\n",
        "\n",
        "\\begin{equation}\n",
        "\\frac{d^2 \\theta}{dt^2} = \\left( \\frac{\\frac{2g}{l} - \\left(\\frac{d\\theta}{dt}\\right)^2\\cos \\theta }{\\frac{1}{3} + \\sin^2 \\theta} \\right)\\sin \\theta\n",
        "\\end{equation}\n",
        "\n",
        "Podemos resolver la ecuación anterior si conocemos las condiciones iniciales: $\\theta = \\theta_0$ en $t = 0$ y $\\frac{d\\theta}{dt} = \\omega_0 = 0$.\n",
        "\n",
        "Su tarea en este examen será modelar el movimiento de caída del lápiz. Para ello, asuma que la longitud del lápiz es:\n",
        "\n",
        "$L = 0.1$ m, $g = 9.8$ m/s² y realice lo siguiente:\n",
        "\n",
        "1. Utilizando `odeint`, encuentre la solución a la ecuación diferencial para obtener: la posición angular $\\theta$, la posición del centro de masa $y = \\frac{l}{2}\\cos \\theta$ y la rapidez angular como función del tiempo, asumiendo que $\\theta_0 = \\pi/12$, $\\omega_0 = 0$.\n",
        "\n",
        "   Nota: El lápiz llega al piso cuando el ángulo es $\\theta = \\pi/2$.\n",
        "\n",
        "2. Empleando `matplotlib`, construya tres gráficos con la información del punto anterior, asegurándose de que tengan las unidades respectivas.\n",
        "\n",
        "3. Con el programa construido en los puntos 1 y 2, analice el efecto del paso del tiempo en la posición angular, la posición del centro de masa y la rapidez angular. Aproximadamente, ¿a partir de qué tiempo la solución puede ser considerada válida?\n",
        "\n",
        "4. Con el paso del tiempo calibrado, construya cuatro curvas en una misma figura de la posición angular como función del tiempo, para ángulos iniciales de caída de: $\\theta_0 = \\pi/12$, $\\theta_0 = \\pi/6$, $\\theta_0 = \\pi/4$, $\\theta_0 = \\pi/3$ y $\\omega_0 = 0$.\n",
        "\n",
        "5. Con los resultados obtenidos, realice una interpolación para cada figura del inciso anterior y encuentre el tiempo de caída, empleando algún método conocido de raíces.\n",
        "\n",
        "6. El Tiempo que tarda el lápiz en caer $T$, puede ser deducido de la ecuación de conservación de la energía, el cual viene dado por la siguiente integral:  \n",
        "\n",
        "\n",
        "\\begin{equation}\n",
        "T = \\frac{1}{2}\\sqrt{\\frac{l}{g}} \\int_{\\theta_0}^{\\pi/2} \\sqrt{\\frac{1/3 + \\sin^2 \\theta}{\\cos \\theta_0 - \\cos \\theta}} \\, \\mathrm{d}\\theta\n",
        "\\end{equation}\n",
        "\n",
        "Valide sus soluciones del tiempo de caída utilizando la anterior ecuación.\n",
        "\n",
        "7. Finalmente, realice un gráfico de $T$ como función de $\\theta_0$. ¿Qué puede concluir?\n",
        "\n",
        "\n",
        "**Referencias**: Para más detalle de los cálulos ver:\n",
        "\n",
        "1. Crawford F. S. Problem: Moments to remember. Am. J. Phys. 57 (2) February 1989, pp. 105, solución 177\n",
        "2. http://www.sc.ehu.es/sbweb/fisica3/solido/lapiz/lapiz.html"
      ]
    },
    {
      "cell_type": "code",
      "execution_count": null,
      "metadata": {
        "id": "g5IQeZYNCh30"
      },
      "outputs": [],
      "source": []
    }
  ],
  "metadata": {
    "colab": {
      "provenance": []
    },
    "kernelspec": {
      "display_name": "Python 3",
      "name": "python3"
    },
    "language_info": {
      "name": "python"
    }
  },
  "nbformat": 4,
  "nbformat_minor": 0
}
