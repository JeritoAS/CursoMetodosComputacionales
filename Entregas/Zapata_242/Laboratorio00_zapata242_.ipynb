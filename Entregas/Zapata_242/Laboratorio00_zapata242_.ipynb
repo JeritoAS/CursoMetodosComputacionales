{
  "cells": [
    {
      "cell_type": "markdown",
      "metadata": {
        "id": "FRH6ZoPM4KeX"
      },
      "source": [
        "# Taller 0.0 de métodos computacionales para físicos  y astrónomos\n",
        "\n",
        "\n",
        "\n",
        "### *Universidad de Antioquia*\n",
        "### *Estefania Zapata Valderrama*\n",
        "\n"
      ]
    },
    {
      "cell_type": "markdown",
      "source": [
        "## *Problemas*\n",
        "1. Elaborar un algoritmo e implementar en python, el factorial de un número entero `n` ingresado por el usuario."
      ],
      "metadata": {
        "id": "hP2rlLfU0Mm6"
      }
    },
    {
      "cell_type": "code",
      "source": [
        "\n",
        "x=int(input())\n",
        "fac=1\n",
        "y=x\n",
        "while x>1:\n",
        "  fac*=x\n",
        "  x=x-1\n",
        "print(f'El factorial de {y} es:',fac)"
      ],
      "metadata": {
        "colab": {
          "base_uri": "https://localhost:8080/"
        },
        "id": "mfZIt44B0S89",
        "outputId": "f363d293-fb72-4e0c-9842-c70da15b2d2f"
      },
      "execution_count": 2,
      "outputs": [
        {
          "output_type": "stream",
          "name": "stdout",
          "text": [
            "4\n",
            "El factorial de 4 es: 24\n"
          ]
        }
      ]
    },
    {
      "cell_type": "markdown",
      "metadata": {
        "id": "9-JZw0Do4Keg"
      },
      "source": [
        "---\n",
        "2. Diseñar un programa que lea dos numero `a` y `b` y diga que tipo de numero son, de a cuerdo a la siguiente clasificación:\n",
        "\n",
        " >- [Números defectivos](https://es.wikipedia.org/wiki/Número_defectivo) : la suma de los divisores propios es menor que el número.\n",
        " >- [Números abundantes](https://es.wikipedia.org/wiki/Número_abundante): la suma de los divisores es mayor que el número.\n",
        " >- [Números amigos](https://es.wikipedia.org/wiki/N%C3%BAmeros_amigos) `a` y `b` tales que a es la suma de los divisores propios de `b` y viceversa.\n",
        " >- [Números semiperfectos](https://es.wikipedia.org/wiki/N%C3%BAmero_semiperfecto) la suma de todos o algunos de los divisores propios es igual al número.\n",
        " >- [Números perfectos](https://es.wikipedia.org/wiki/N%C3%BAmero_perfecto) la suma de todos sus divisores propios, excepto el mismo numero, es igual al número.\n",
        " >- [Números primos](https://es.wikipedia.org/wiki/N%C3%BAmero_primo) el número es divisible unicamente por sí mismo y por 1.\n",
        " "
      ]
    },
    {
      "cell_type": "code",
      "source": [
        "#Ingresar números a y b\n",
        "a=int(input('Ingrese un numero \"a\" : '))\n",
        "b=int(input('ingrese un numero \"b\" : '))\n",
        "\n",
        "#Función para conocer los divisores de un número\n",
        "def div(a):\n",
        "  div_a = []\n",
        "  for i in range(1,a+1):\n",
        "    if a % i == 0:\n",
        "       div_a.append(i)\n",
        "  return div_a\n",
        "\n",
        "#divisores de a y b\n",
        "div_a= div(a)\n",
        "div_b= div(b)\n",
        "\n",
        "#suma de los divisores propios de a y b sin incluirlos a ellos\n",
        "sum_a=(sum(div_a)- a)\n",
        "sum_b=(sum(div_b)- b)\n",
        "\n",
        "\n",
        "#Clasificación número a\n",
        "num_a=[]\n",
        "if sum_a > a:\n",
        "  num_a.append('abundante,')\n",
        "else:\n",
        " num_a.append('defectivo,')\n",
        "if sum_a >= a:\n",
        "  num_a.append('semiperfecto,')\n",
        "if sum_a == a:\n",
        "  num_a.append('perfecto,')\n",
        "if sum(div_a) == a+1:\n",
        "  num_a.append('primo') \n",
        "num_a2=\" \"\n",
        "print('el número',a, 'es:',num_a2.join(num_a))\n",
        "\n",
        "#Clasificación número b\n",
        "num_b=[]\n",
        "if sum_b > b:\n",
        "  num_b.append('abundante,')\n",
        "else:\n",
        "  num_b.append('defectivo,')\n",
        "if sum_b >= b:\n",
        "  num_b.append('semiperfecto,')\n",
        "if sum_b == b:\n",
        "  num_b.append('perfecto,')\n",
        "if sum(div_b) == b+1:\n",
        "  num_b.append('primo')\n",
        "num_b2=\" \"\n",
        "print('el número',b,'es:',num_b2.join(num_b))\n",
        "\n",
        "#Números amigos\n",
        "if sum_a ==b and sum_b ==a:\n",
        "  print(a,'y',b,'son números amigos')\n",
        "\n"
      ],
      "metadata": {
        "colab": {
          "base_uri": "https://localhost:8080/"
        },
        "id": "0kUAwhTAeQun",
        "outputId": "b99add36-4d27-4b3c-ba3b-751843ae3b13"
      },
      "execution_count": 3,
      "outputs": [
        {
          "output_type": "stream",
          "name": "stdout",
          "text": [
            "Ingrese un numero \"a\" : 28\n",
            "ingrese un numero \"b\" : 36\n",
            "el número 28 es: defectivo, semiperfecto, perfecto,\n",
            "el número 36 es: abundante, semiperfecto,\n"
          ]
        }
      ]
    },
    {
      "cell_type": "markdown",
      "metadata": {
        "id": "45A4RWSm4Keh"
      },
      "source": [
        "---\n",
        "3. Determine si un número `n` entero ingresado por el usuario es un [palíndromo](https://en.wikipedia.org/wiki/Palindromic_number), (Retorne `True` en caso afirmativo y `False` en caso contrario) \n",
        "\n",
        "\n",
        "\n",
        "\n",
        "\n"
      ]
    },
    {
      "cell_type": "code",
      "execution_count": 1,
      "metadata": {
        "id": "vtybv-vA-Yuz",
        "colab": {
          "base_uri": "https://localhost:8080/"
        },
        "outputId": "3db7ce3f-d127-439c-e654-86682e405e92"
      },
      "outputs": [
        {
          "output_type": "stream",
          "name": "stdout",
          "text": [
            "ingrese un número:3434343\n",
            "True\n"
          ]
        }
      ],
      "source": [
        "#ingresar un número\n",
        "x=int(input('ingrese un número:'))\n",
        "\n",
        "#Funcion para determianr si el numero es un palindromo\n",
        "def palindromo(x):\n",
        "  if str(x) == str(x)[::-1]: \n",
        "    return True\n",
        "  else:\n",
        "    return False\n",
        "\n",
        "p= palindromo(x)\n",
        "print(p)"
      ]
    },
    {
      "cell_type": "markdown",
      "metadata": {
        "id": "bmQYQxjX4Keh"
      },
      "source": [
        "---\n",
        "4. Dada una cadena de caracteres, entregar una lista donde se retorne:\n",
        ">- en la primera casilla: `True` si el caracter del medio es una vocal, `False` en caso contrario \n",
        ">- en la segunda: el numero de vocales en la cadena\n",
        ">- en la tercera: el numero de consonantes\n",
        ">- en la ultima: la cadena de caracteres invertida (ej: perro, orrep)\n",
        "\n",
        "\n"
      ]
    },
    {
      "cell_type": "code",
      "source": [
        "caracteres = str(input('ingrese una cadena de caracteres: '))\n",
        "\n",
        "#Determinamos el caracter del medio\n",
        "def cadena(a):\n",
        "  if len(a)%2 == 0:\n",
        "    b = int((len(a)/2 ) -1)\n",
        "  else:\n",
        "    b = int((len(a)/2) - 0.5) \n",
        "\n",
        " #determinar si el caracter del medio (b) es vocal\n",
        "  vocales = [\"a\", \"e\", \"i\", \"o\", \"u\"]\n",
        "  for i in vocales:\n",
        "    if i == caracteres[b]:\n",
        "      c = True\n",
        "      break\n",
        "    else: \n",
        "      c = False\n",
        "\n",
        " #numero de vocales     \n",
        "  p = 0\n",
        "  for i in caracteres:\n",
        "    for j in vocales:\n",
        "      if i == j:\n",
        "        p += 1\n",
        "        break\n",
        "      else:\n",
        "        continue\n",
        "  \n",
        " #numero de consonantes\n",
        "  d = len(caracteres) - p\n",
        "\n",
        " #invertir cadena\n",
        "  e = caracteres[::-1]\n",
        "  return [c,p,d,e]\n",
        "\n",
        "cad = cadena(caracteres)\n",
        "print(cad)"
      ],
      "metadata": {
        "colab": {
          "base_uri": "https://localhost:8080/"
        },
        "id": "V1Z3JpP6gGFv",
        "outputId": "3a8e9a63-667d-45f0-d963-24c55a808d2e"
      },
      "execution_count": 4,
      "outputs": [
        {
          "output_type": "stream",
          "name": "stdout",
          "text": [
            "ingrese una cadena de caracteres: solecito\n",
            "[True, 4, 4, 'oticelos']\n"
          ]
        }
      ]
    },
    {
      "cell_type": "markdown",
      "metadata": {
        "id": "Z6rU_h_q4Kei"
      },
      "source": [
        "---\n",
        "5. Elabore un método para calcular el n-ésimo término de la sucesión de fibonacci: \n",
        "\n",
        "$$ f_n = f_{n-1}+f_{n-2}$$\n",
        "\n",
        "Donde $$f_0=0 \\:\\:\\text{ y }\\:\\:f_1=1 $$ así:   $$f_2=1+0=1$$ $$f_3=1+1=2$$  $$f_4=2+1=3$$ y así sucesivamente\n",
        "\n",
        "\n"
      ]
    },
    {
      "cell_type": "code",
      "source": [
        "x = int(input('¿Para que posición desea conocer el valor de la sucesión de fibonacci? ')) \n",
        "\n",
        "def fibo(n):\n",
        "  f0 = 0\n",
        "  f1 = 1\n",
        "  for x in range(n-1):\n",
        "      fn = f0 + f1\n",
        "      f0 = f1\n",
        "      f1 = fn\n",
        "  return f1  \n",
        "fib_x = fibo(x)\n",
        "print(fib_x) "
      ],
      "metadata": {
        "colab": {
          "base_uri": "https://localhost:8080/"
        },
        "id": "PUz16URr14k-",
        "outputId": "066db229-e578-45ad-f54a-6e2f24677129"
      },
      "execution_count": 5,
      "outputs": [
        {
          "output_type": "stream",
          "name": "stdout",
          "text": [
            "¿Para que posición desea conocer el valor de la sucesión de fibonacci? 7\n",
            "13\n"
          ]
        }
      ]
    },
    {
      "cell_type": "markdown",
      "metadata": {
        "id": "1Aezlw_x4Kei"
      },
      "source": [
        "---\n",
        "6. Entrar un arreglo de números y ordenarlos de forma ascendente, Ver algoritmo\n",
        "[Quicksort](https://es.wikipedia.org/wiki/Quicksort). \n",
        "\n",
        "\n",
        "```python\n",
        "\n",
        "\n",
        "<<< v = [22, 32, 42, 12, 22, 31, 41, 11, 12, 232, 24, 12, 22]\n",
        "<<< def quicksort(v):\n",
        "\n",
        "<<<     return v\n",
        "<<< w = print(quicksort(v))\n",
        "<<< [11, 12, 12, 12, 22, 22, 22, 24, 31, 32, 41, 42, 232]\n",
        "\n",
        "```\n",
        "\n",
        "Sólo para comprobar tu código,  puedes hacer uso del comando sort de python. \n",
        "```python\n",
        "<<< b = [22, 32, 42, 12, 22, 31, 41, 11, 12, 232, 24, 12, 22]\n",
        "\n",
        "<<< print(b.sort())\n",
        "\n",
        "<<< [11, 12, 12, 12, 22, 22, 22, 24, 31, 32, 41, 42, 232]\n",
        "```"
      ]
    },
    {
      "cell_type": "markdown",
      "metadata": {
        "id": "BTj0eQBs4Kej"
      },
      "source": [
        "## REFERENCIAS.\n",
        "[1] Scripts de un curso de python. [Raul Pollan](https://github.com/rramosp/20182.pcomp)  \n",
        "\n",
        "[2] [Fundamenteos de programación](https://sites.google.com/site/funpropoli/ejercicios-practicos)\n",
        "\n",
        "[3] Scripts de un curso de python. [Fernando Perez](https://github.com/fperez)\n"
      ]
    },
    {
      "cell_type": "code",
      "execution_count": null,
      "metadata": {
        "colab": {
          "base_uri": "https://localhost:8080/"
        },
        "id": "pXmL-G7n4Kej",
        "outputId": "b20379be-b116-41a6-d7ac-5b6a05c8bc37"
      },
      "outputs": [
        {
          "data": {
            "text/plain": [
              "10"
            ]
          },
          "execution_count": 7,
          "metadata": {
            "tags": []
          },
          "output_type": "execute_result"
        }
      ],
      "source": [
        "A=[0,1,2,3,4,5,6,7,8,9]\n",
        "len(A)"
      ]
    }
  ],
  "metadata": {
    "colab": {
      "collapsed_sections": [],
      "name": "Laboratorio00_zapata242 .ipynb",
      "provenance": []
    },
    "kernelspec": {
      "display_name": "Python 3 (ipykernel)",
      "language": "python",
      "name": "python3"
    },
    "language_info": {
      "codemirror_mode": {
        "name": "ipython",
        "version": 3
      },
      "file_extension": ".py",
      "mimetype": "text/x-python",
      "name": "python",
      "nbconvert_exporter": "python",
      "pygments_lexer": "ipython3",
      "version": "3.8.12"
    }
  },
  "nbformat": 4,
  "nbformat_minor": 0
}