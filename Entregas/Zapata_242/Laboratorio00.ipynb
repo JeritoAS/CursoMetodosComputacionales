{
  "nbformat": 4,
  "nbformat_minor": 0,
  "metadata": {
    "colab": {
      "name": "Laboratorio00.ipynb",
      "provenance": []
    },
    "kernelspec": {
      "name": "python3",
      "display_name": "Python 3"
    },
    "language_info": {
      "name": "python"
    }
  },
  "cells": [
    {
      "cell_type": "markdown",
      "source": [
        "FACTORIAL DE X"
      ],
      "metadata": {
        "id": "0SkJR0RHCsQi"
      }
    },
    {
      "cell_type": "code",
      "execution_count": 10,
      "metadata": {
        "colab": {
          "base_uri": "https://localhost:8080/"
        },
        "id": "kk3HLdBHCmmw",
        "outputId": "5a36b5a1-6265-445f-a6ed-d821fd4a568f"
      },
      "outputs": [
        {
          "output_type": "stream",
          "name": "stdout",
          "text": [
            "4\n",
            "El factorial de 4 es: 24\n"
          ]
        }
      ],
      "source": [
        "fac=1\n",
        "x=int(input())\n",
        "y=x\n",
        "while x>1:\n",
        "  fac*=x\n",
        "  x=x-1\n",
        "print(f'El factorial de {y} es:',fac)"
      ]
    },
    {
      "cell_type": "code",
      "source": [
        ""
      ],
      "metadata": {
        "id": "-ivwIKS4RFEs"
      },
      "execution_count": null,
      "outputs": []
    }
  ]
}