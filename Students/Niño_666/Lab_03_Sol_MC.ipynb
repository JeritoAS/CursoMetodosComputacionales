{
  "nbformat": 4,
  "nbformat_minor": 0,
  "metadata": {
    "colab": {
      "provenance": []
    },
    "kernelspec": {
      "name": "python3",
      "display_name": "Python 3"
    },
    "language_info": {
      "name": "python"
    }
  },
  "cells": [
    {
      "cell_type": "code",
      "execution_count": 3,
      "metadata": {
        "id": "TdDUnb7xEXhH"
      },
      "outputs": [],
      "source": [
        "#@title Librerias\n",
        "import numpy as np\n",
        "import matplotlib.pyplot as plt\n",
        "import pandas as pd\n",
        "import math\n",
        "import sympy as sp"
      ]
    },
    {
      "cell_type": "markdown",
      "source": [
        "# Lab 03: Errores y estabilidad\n",
        "\n",
        "---\n",
        "### Profesor: Juan Marcos Marín\n",
        "### Nombre: Soleil Dayana Niño Murcia\n",
        "*Métodos computacionales 2024-II*\n",
        "\n",
        "---"
      ],
      "metadata": {
        "id": "izZKutpxFNuB"
      }
    },
    {
      "cell_type": "markdown",
      "source": [
        "#1. Serie Seno\n",
        "Considere la serie de Taylor para el seno\n",
        "\n",
        "$$\\sin(x) = \\sum^{\\infty}_{n=1} (-1)^{n}\\frac{x^{2n-1}}{(2n-1)!} $$\n",
        "\n",
        "a. Defina una función que a partir de la *serie de Taylor* y un valor de $x$ en radianes encuentre el valor de $\\sin(x)$."
      ],
      "metadata": {
        "id": "xkTCfzqOFSd_"
      }
    },
    {
      "cell_type": "code",
      "source": [
        "# Calcula el valor de seno a partir de la serie de Taylor (a : angulo en radianes, n : número de iteraciones)\n",
        "def seno_taylor(a, n):\n",
        "  seno = 0\n",
        "  for i in range (n):\n",
        "    seno += ((-1)**i)*(a**(2*i+1))/math.factorial(2*i+1)\n",
        "  return seno"
      ],
      "metadata": {
        "id": "GVLogC5BGc3E"
      },
      "execution_count": 4,
      "outputs": []
    },
    {
      "cell_type": "code",
      "source": [
        "x = math.radians(30)\n",
        "iter = 10\n",
        "seno = seno_taylor(x, iter)\n",
        "seno_real = math.sin(x)\n",
        "print('Seno por serie de Taylor:', seno, 'vs. Seno real:', seno_real)\n",
        "print('Are these values equal?:',seno == seno_real)"
      ],
      "metadata": {
        "colab": {
          "base_uri": "https://localhost:8080/"
        },
        "id": "QH52tCqc1RtG",
        "outputId": "a9f2acce-7a9b-4971-c9a9-091f58ff7f53"
      },
      "execution_count": 5,
      "outputs": [
        {
          "output_type": "stream",
          "name": "stdout",
          "text": [
            "Seno por serie de Taylor: 0.49999999999999994 vs. Seno real: 0.49999999999999994\n",
            "Are these values equal?: True\n"
          ]
        }
      ]
    },
    {
      "cell_type": "markdown",
      "source": [
        "b. Usando $x$ como `float32` encuentre cuántos términos de la serie son necesarios para obtener una convergencia con un error absoluto menor al $ϵ$ de la máquina para dicho tipo de variable. Para el valor exacto use `math.sin()`.\n",
        "\n"
      ],
      "metadata": {
        "id": "tbpwgW573Qu8"
      }
    },
    {
      "cell_type": "code",
      "source": [
        "def taylor_sin_with_tolerance(a, tolerance):\n",
        "  sin = 0\n",
        "  real = math.sin\n",
        "  i = 0\n",
        "  while abs(real(a)-sin) > tolerance:\n",
        "    sin += ((-1)**i)*(a**(2*i+1))/math.factorial(2*i+1)\n",
        "    i += 1\n",
        "  return sin, i"
      ],
      "metadata": {
        "id": "vave3Cj44XLc"
      },
      "execution_count": 6,
      "outputs": []
    },
    {
      "cell_type": "code",
      "source": [
        "x = math.radians(80)\n",
        "tolerance = np.finfo(np.float32).eps # Definido para Epsilon de la máquina\n",
        "seno, N = taylor_sin_with_tolerance(x, tolerance)\n",
        "seno_real = math.sin(x)\n",
        "print('Seno por serie de Taylor empleando un límite de tolerancia de', N, 'iteraciones:', seno, 'vs. Seno real:', seno_real)"
      ],
      "metadata": {
        "colab": {
          "base_uri": "https://localhost:8080/"
        },
        "id": "9P9r1X1W5qUl",
        "outputId": "10ea6626-4ae0-44f5-f350-7c299462ee8f"
      },
      "execution_count": 7,
      "outputs": [
        {
          "output_type": "stream",
          "name": "stdout",
          "text": [
            "Seno por serie de Taylor empleando un límite de tolerancia de 6 iteraciones: 0.9848077408146284 vs. Seno real: 0.984807753012208\n"
          ]
        }
      ]
    },
    {
      "cell_type": "markdown",
      "source": [
        "6 iteraciones"
      ],
      "metadata": {
        "id": "Wk2XyxWSGkJx"
      }
    },
    {
      "cell_type": "markdown",
      "source": [
        "\n",
        "c. Ahora, usando $x$ como `float64` encuentre cuántos términos de la serie son necesarios para obtener una convergencia con un error absoluto menor al $ϵ$ de la máquina para dicho tipo de variable. Para el valor exacto use `math.sin()`.\n",
        "\n"
      ],
      "metadata": {
        "id": "3L3a4CcM3cPN"
      }
    },
    {
      "cell_type": "code",
      "source": [
        "x = math.radians(80)\n",
        "tolerance = np.finfo(np.float64).eps # Definido para Epsilon de la máquina\n",
        "seno, N = taylor_sin_with_tolerance(x, tolerance)\n",
        "seno_real = math.sin(x)\n",
        "print('Seno por serie de Taylor en', N, 'términos.', seno, 'vs. Seno real:', seno_real)"
      ],
      "metadata": {
        "colab": {
          "base_uri": "https://localhost:8080/"
        },
        "id": "-9ggN0u97lqO",
        "outputId": "67ee8719-057b-43b7-e58c-70d1a08eeb3d"
      },
      "execution_count": 9,
      "outputs": [
        {
          "output_type": "stream",
          "name": "stdout",
          "text": [
            "Seno por serie de Taylor en 10 términos. 0.9848077530122078 vs. Seno real: 0.984807753012208\n"
          ]
        }
      ]
    },
    {
      "cell_type": "markdown",
      "source": [
        "10 iteraciones"
      ],
      "metadata": {
        "id": "84Dh8JO0GvIl"
      }
    },
    {
      "cell_type": "markdown",
      "source": [
        "\n",
        "d. Describa los errores porcentuales para cada cálculo y por qué pueden existir diferencias."
      ],
      "metadata": {
        "id": "OjG5Js0M3k2K"
      }
    },
    {
      "cell_type": "code",
      "source": [
        "def taylor_errors(a,tolerance):\n",
        "  max_iter, sin, real_sin, i = 100, 0, math.sin(a), 0\n",
        "  errors, iteraciones = np.zeros(max_iter), np.arange(max_iter)\n",
        "  while abs(real_sin - sin) > tolerance:\n",
        "    sin += ((-1)**i)*(a**(2*i+1))/math.factorial(2*i+1)\n",
        "    error = abs(real_sin - sin)\n",
        "    errors[i] = error\n",
        "    i += 1\n",
        "    if i > max_iter:\n",
        "      break\n",
        "  return errors[:i], iteraciones[:i], sin"
      ],
      "metadata": {
        "id": "9sXc5RtH8dVT"
      },
      "execution_count": 10,
      "outputs": []
    },
    {
      "cell_type": "code",
      "source": [
        "x = math.radians(60)\n",
        "tol64 = np.finfo(np.float64).eps\n",
        "tol32 = np.finfo(np.float32).eps\n",
        "error64, n64, sin64 = taylor_errors(x, tol64)\n",
        "error32, n32, sin32 = taylor_errors(x, tol32)"
      ],
      "metadata": {
        "id": "zz_YOc14-Cvo"
      },
      "execution_count": 11,
      "outputs": []
    },
    {
      "cell_type": "code",
      "source": [
        "plt.plot(n64, error64, 'ro-', label = 'float64')\n",
        "plt.plot(n32, error32, 'bo-', label = 'float32')\n",
        "#plt.yscale('log')\n",
        "#plt.xscale('log')\n",
        "plt.title('Error porcentual del Seno de Taylor según el número de términos empleados')\n",
        "plt.xlabel('Número de iteraciones')\n",
        "plt.ylabel('Error')\n",
        "plt.legend()"
      ],
      "metadata": {
        "colab": {
          "base_uri": "https://localhost:8080/",
          "height": 489
        },
        "id": "T8vtuxGI-ofN",
        "outputId": "dc1f7929-d501-4ab1-9c58-7a09427202d7"
      },
      "execution_count": 12,
      "outputs": [
        {
          "output_type": "execute_result",
          "data": {
            "text/plain": [
              "<matplotlib.legend.Legend at 0x7a8d6a2e7eb0>"
            ]
          },
          "metadata": {},
          "execution_count": 12
        },
        {
          "output_type": "display_data",
          "data": {
            "text/plain": [
              "<Figure size 640x480 with 1 Axes>"
            ],
            "image/png": "[encoded data removed]"
          },
          "metadata": {}
        }
      ]
    },
    {
      "cell_type": "code",
      "source": [
        "plt.plot(n64, error64, 'ro-', label = 'float64') # Log\n",
        "plt.plot(n32, error32, 'bo-', label = 'float32')\n",
        "plt.yscale('log')\n",
        "plt.xscale('log')\n",
        "plt.title('Error porcentual del Seno de Taylor según el número de términos empleados')\n",
        "plt.xlabel('Número de iteraciones')\n",
        "plt.ylabel('Error')\n",
        "plt.legend()"
      ],
      "metadata": {
        "colab": {
          "base_uri": "https://localhost:8080/",
          "height": 494
        },
        "outputId": "773a616a-16a5-4140-e84e-ae6c4fd519f1",
        "id": "dvZAIxMwDy4k"
      },
      "execution_count": 14,
      "outputs": [
        {
          "output_type": "execute_result",
          "data": {
            "text/plain": [
              "<matplotlib.legend.Legend at 0x791ef07ee7d0>"
            ]
          },
          "metadata": {},
          "execution_count": 14
        },
        {
          "output_type": "display_data",
          "data": {
            "text/plain": [
              "<Figure size 640x480 with 1 Axes>"
            ],
            "image/png": "[encoded data removed]"
          },
          "metadata": {}
        }
      ]
    },
    {
      "cell_type": "markdown",
      "source": [
        "La diferencia entre los errores porcentuales del método con 32 bits y 64 bits no reporta diferencias considerables comparando con el mismo número de iteraciones en ambos casos;  sin embargo, el método con 64 bits permite más iteraciones y por tanto se va disminuyendo de forma importante el error porcentual conforme se emplean más iteraciones."
      ],
      "metadata": {
        "id": "zv_tnPn0RdFi"
      }
    },
    {
      "cell_type": "markdown",
      "source": [
        "#2. Serie Exponencial\n",
        "Considere la serie para $e^{-x}$\n",
        "\n",
        "\\begin{equation}\n",
        "e^{-x}=\\sum_{n=0}^{N}  (-1)^n \\frac{x^{n}}{n!}\n",
        "\\end{equation}\n",
        "\n",
        "a. Calcula la serie para $x \\le 1$ y compárela con la función incorporada `np.exp(x)` (asuma que la función exponencial incorporada es exacta). Elegir un $N$ para el cual el siguiente término en la serie no sea más que $10^{-7}$ de la suma hasta ese punto.\n",
        "\n",
        "\\begin{equation}\n",
        "\\left| \\frac{(-x)^{N+1}}{(N+1)!} \\right | \\le \\left| 10^{-7} \\sum_{N=0}^{N} \\frac{(-x)^{n}}{n!} \\right|\n",
        "\\end{equation}\n",
        "\n",
        "\n"
      ],
      "metadata": {
        "id": "RdMr0k4_X_t-"
      }
    },
    {
      "cell_type": "code",
      "source": [
        "def exponencial_taylor(x, n): # Define la función exponencial\n",
        "  if x > 1:\n",
        "    print('El valor de x debe ser menor o igual a 1')\n",
        "  else:\n",
        "    exponencial = 0\n",
        "    for i in range (n):\n",
        "      exponencial += ((-1)**i)*(x**i)/math.factorial(i)\n",
        "    return exponencial, i"
      ],
      "metadata": {
        "id": "qQgoQlvDX_bT"
      },
      "execution_count": 13,
      "outputs": []
    },
    {
      "cell_type": "code",
      "source": [
        "x, n = -3, 1000\n",
        "x_byfunction, iter = exponencial_taylor(x,n)\n",
        "x_real = np.exp(-x)\n",
        "print('Exponencial para x = -3 por serie de Taylor en', iter, 'iteraciones:', x_byfunction, 'vs. Exponencial real:', x_real)"
      ],
      "metadata": {
        "colab": {
          "base_uri": "https://localhost:8080/"
        },
        "id": "-mhqwm58CO2k",
        "outputId": "a3cef73f-cb97-4c95-9dcd-7272396e8b6c"
      },
      "execution_count": 16,
      "outputs": [
        {
          "output_type": "stream",
          "name": "stdout",
          "text": [
            "Exponencial para x = -3 por serie de Taylor en 999 iteraciones: 20.08553692318766 vs. Exponencial real: 20.085536923187668\n"
          ]
        }
      ]
    },
    {
      "cell_type": "code",
      "source": [
        "x = 1\n",
        "N = 0\n",
        "while True:\n",
        "  N += 1\n",
        "  suma, n = exponencial_taylor(x, N)\n",
        "  next = (-1)*(N + 1) * (x*(N + 1)) / math.factorial(N + 1)\n",
        "  if abs(next) <= abs(10**-7 * suma):\n",
        "    break\n",
        "\n",
        "# Calcular la serie y comparar con np.exp(-x)\n",
        "serie_final_value, n = exponencial_taylor(x, N)\n",
        "real = np.exp(-x)\n",
        "\n",
        "print(f\"Valor por serie para x = {x} empleando {n} términos: {serie_final_value}\")\n",
        "print(f\"Valor por exponencial (-x) de numpy para (x = {x}): {real}\")"
      ],
      "metadata": {
        "colab": {
          "base_uri": "https://localhost:8080/"
        },
        "id": "M9hEULpteHQI",
        "outputId": "20b03cb0-083d-45a5-f82f-dca041f08e0f"
      },
      "execution_count": 43,
      "outputs": [
        {
          "output_type": "stream",
          "name": "stdout",
          "text": [
            "Valor por serie para x = 1 empleando 11 términos: 0.367879439233606\n",
            "Valor por exponencial (-x) de numpy para (x = 1): 0.36787944117144233\n"
          ]
        }
      ]
    },
    {
      "cell_type": "markdown",
      "source": [
        "El N debe ser menor a 11 para que se cumpla  la condición del enunciado."
      ],
      "metadata": {
        "id": "LX6Xo6w5vert"
      }
    },
    {
      "cell_type": "markdown",
      "source": [
        "b. Examine los términos de la serie para $x\\approx 10$ y observa las cancelaciones sustractivas significativas que ocurren cuando términos grandes se suman para dar respuestas pequeñas. En particular, imprime la cancelación casi perfecta en $n \\approx x − 1$.\n"
      ],
      "metadata": {
        "id": "ccRzCi6PDRwF"
      }
    },
    {
      "cell_type": "code",
      "source": [
        "x_ = 10"
      ],
      "metadata": {
        "id": "q6hndUwGDtdb",
        "colab": {
          "base_uri": "https://localhost:8080/"
        },
        "outputId": "7d03804a-3d74-4b00-bd78-948c22040954"
      },
      "execution_count": null,
      "outputs": [
        {
          "output_type": "execute_result",
          "data": {
            "text/plain": [
              "2.718281828459045"
            ]
          },
          "metadata": {},
          "execution_count": 5
        }
      ]
    },
    {
      "cell_type": "markdown",
      "source": [
        "c. Compruebe si se obtiene una mejor precisión siendo ingenioso y usando $e^{−x} = \\frac{1}{e^x}$ para valores grandes de $x$. Esto elimina la cancelación sustractiva, pero no elimina todos los errores de redondeo."
      ],
      "metadata": {
        "id": "Q4BYBw65DYIG"
      }
    },
    {
      "cell_type": "markdown",
      "source": [
        "d. Incrementando progresivamente $x$ de 1 a 10, y luego de 10 a 100, usa el programa para determinar experimentalmente cuándo la serie comienza a perder precisión, y cuándo la serie ya no converge.\n"
      ],
      "metadata": {
        "id": "vRMchG2EDcK-"
      }
    },
    {
      "cell_type": "markdown",
      "source": [
        "e. Realiza una serie de gráficos del error versus $N$ para diferentes valores de $x$."
      ],
      "metadata": {
        "id": "Lbp71aCWDfLL"
      }
    },
    {
      "cell_type": "markdown",
      "source": [
        "# 3. Serie $S_N$\n",
        "\n",
        "Un ejemplo de la cancelacion substractiva es en la suma de series alternantes. Considere la serie $\\mathrm{S}_N$,  escrita  matematicamente de tres formas diferentes:\n",
        "\n",
        "-\n",
        "\\begin{equation}\n",
        "\\mathrm{S}_N^{(1)} = \\sum_{n = 1}^{2N} (-1)^n \\frac{n}{n+1}\n",
        "\\end{equation}\n",
        "\n",
        "- Sumando números pares e impares.\n",
        "\n",
        "\\begin{equation}\n",
        "\\mathrm{S}_N^{(2)} = -\\sum_{n = 1}^{N}\\frac{2n-1}{2n} + \\sum_{n=1}^{N} \\frac{2n}{2n+1}\n",
        "\\end{equation}\n",
        "\n",
        "- Combinando las series de una forma analítica\n",
        "\n",
        "\\begin{equation}\n",
        "\\mathrm{S}_N^{(3)} = \\sum_{n = 1}^{N}\\frac{1}{2n(2n+1)}\n",
        "\\end{equation}\n",
        "\n",
        "\n",
        "\n",
        "Las tres sumas $\\mathrm{S}_N^{(1)}$, $\\mathrm{S}_N^{(2)}$ y $\\mathrm{S}_N^{(3)}$ son matemáticamente iguales, pero los resultados númericos  pueden tener diferencias.\n",
        "\n",
        "\n",
        "a.  Escribir tres funciones para que realicen el cálculo de $\\mathrm{S}_N^{(1)}$, $\\mathrm{S}_N^{(2)}$ y $\\mathrm{S}_N^{(3)}$"
      ],
      "metadata": {
        "id": "3AEfpFQcbiys"
      }
    },
    {
      "cell_type": "code",
      "source": [
        "def S1(N):\n",
        "  sum = 0\n",
        "  for n in range(2*N):\n",
        "    a = (-1)**n\n",
        "    b = n/( n+1)\n",
        "    sum += a*b\n",
        "  return sum, n\n",
        "\n",
        "def S2(N):\n",
        "  sum1, sum2 = 0, 0\n",
        "  total = 0\n",
        "  for n in range(N):\n",
        "    if n == 0:\n",
        "      none = 0\n",
        "    else:\n",
        "      sum1 += 2*n/(2*n + 1)\n",
        "      sum2 += (2*n -1)/(2*n)\n",
        "      total += sum1 - sum2\n",
        "  return total, n\n",
        "\n",
        "def S3(N):\n",
        "  sum = 0\n",
        "  for n in range(N):\n",
        "    if n == 0:\n",
        "      none = 0\n",
        "    else:\n",
        "      sum += 1/(2*n*(2*n + 1))\n",
        "  return sum, n"
      ],
      "metadata": {
        "id": "aZnAG7C_b1H9"
      },
      "execution_count": 26,
      "outputs": []
    },
    {
      "cell_type": "markdown",
      "source": [
        "b. Estudiar la convergencia de la serie para los tres casos."
      ],
      "metadata": {
        "id": "qRS8e-KcWJy2"
      }
    },
    {
      "cell_type": "code",
      "source": [
        "def S1_convergence (n, tol):\n",
        "  a, b = 0, 0\n",
        "  for i  in range(1, 2*n +1):\n",
        "    a += ((-1)**i)*(i/(i+1))\n",
        "    if abs(a-b) <= tol:\n",
        "      break\n",
        "    b = a\n",
        "  return a, i\n",
        "\n",
        "def S2_convergence (N, tol):\n",
        "  total, b = 0, 0\n",
        "  sum1, sum2 = 0, 0\n",
        "  for n in range(1, N+1):\n",
        "    sum1 += 2*n/(2*n + 1)\n",
        "    sum2 += (2*n -1)/(2*n)\n",
        "    total += sum1 - sum2\n",
        "    if abs(total-b) <= tol:\n",
        "      break\n",
        "    b = total\n",
        "  return total, n\n",
        "\n",
        "def S3_convergence(n, tol):\n",
        "  sum, b = 0, 0\n",
        "  for i in range(1, n+1):\n",
        "    sum += 1/(2*i*(2*i + 1))\n",
        "    if abs(sum-b) <= tol:\n",
        "      break\n",
        "    b = sum\n",
        "  return sum, i"
      ],
      "metadata": {
        "id": "k1wcrjb7LluA"
      },
      "execution_count": 18,
      "outputs": []
    },
    {
      "cell_type": "code",
      "source": [
        "  sin = 0\n",
        "  real = math.sin\n",
        "  i = 0\n",
        "  while abs(real(a)-sin) > tolerance:\n",
        "    sin += ((-1)**i)*(a**(2*i+1))/math.factorial(2*i+1)\n",
        "    i += 1\n",
        "  return sin, i"
      ],
      "metadata": {
        "id": "zE2NtvltQ-Xt"
      },
      "execution_count": null,
      "outputs": []
    },
    {
      "cell_type": "code",
      "source": [
        "tolerance = np.finfo(np.float32).eps\n",
        "iter = 100\n",
        "u = S1_convergence(iter, tolerance)\n",
        "v = S2_convergence(iter, tolerance)\n",
        "w = S3_convergence(iter, tolerance)\n",
        "u, v, w"
      ],
      "metadata": {
        "colab": {
          "base_uri": "https://localhost:8080/"
        },
        "id": "SA9Gqa64PN8-",
        "outputId": "dde067b0-1b62-4ce6-af6c-34cfef46b6db"
      },
      "execution_count": 23,
      "outputs": [
        {
          "output_type": "execute_result",
          "data": {
            "text/plain": [
              "1.1920929e-07"
            ]
          },
          "metadata": {},
          "execution_count": 23
        }
      ]
    },
    {
      "cell_type": "code",
      "source": [
        "def S1_N(N): #suma S(1)_N = ∑ (−1)^n * n / (n + 1)\n",
        "    suma = 0\n",
        "    for n in range(1, 2 * N + 1):\n",
        "        suma += (-1)**(n-1) * n / (n + 1)\n",
        "    return suma\n",
        "\n",
        "def S2_N(N): #Calcula la suma S(2)_N = -∑ impares + ∑ pares\n",
        "    suma_impares = 0\n",
        "    for n in range(1, N + 1):\n",
        "        suma_impares += -(2 * n - 1) / (2 * n)\n",
        "\n",
        "    suma_pares = 0\n",
        "    for n in range(1, N + 1):\n",
        "        suma_pares += (2 * n) / (2 * n + 1)\n",
        "\n",
        "    return suma_impares + suma_pares\n",
        "\n",
        "def S3_N(N): # S(3)_N = ∑ 1 / (2n * (2n + 1))\n",
        "    suma = 0\n",
        "    for n in range(1, N + 1):\n",
        "        suma += 1 / (2 * n * (2 * n + 1))\n",
        "    return suma"
      ],
      "metadata": {
        "id": "qMAMqmUoU-iN"
      },
      "execution_count": 24,
      "outputs": []
    },
    {
      "cell_type": "code",
      "source": [
        "N_valores = [10, 100, 1000, 10000, 100000]\n",
        "\n",
        "for N in N_valores:\n",
        "  s1 = S1_N(N)\n",
        "  s2 = S2_N(N)\n",
        "  s3 = S3_N(N)\n",
        "  print(f\"N = {N}: S1 = {s1:.6f}, S2 = {s2:.6f}, S3 = {s3:.6f}\")"
      ],
      "metadata": {
        "colab": {
          "base_uri": "https://localhost:8080/"
        },
        "id": "zOYpZLlVVEFW",
        "outputId": "aaeb6fa4-5f2e-4dde-868f-3183fa947532"
      },
      "execution_count": 25,
      "outputs": [
        {
          "output_type": "stream",
          "name": "stdout",
          "text": [
            "N = 10: S1 = -0.283610, S2 = 0.283610, S3 = 0.283610\n",
            "N = 100: S1 = -0.304371, S2 = 0.304371, S3 = 0.304371\n",
            "N = 1000: S1 = -0.306603, S2 = 0.306603, S3 = 0.306603\n",
            "N = 10000: S1 = -0.306828, S2 = 0.306828, S3 = 0.306828\n",
            "N = 100000: S1 = -0.306850, S2 = 0.306850, S3 = 0.306850\n"
          ]
        }
      ]
    },
    {
      "cell_type": "markdown",
      "source": [
        "c. Considere  que $S_N^{(3)}$ es la solución exacta, realizar dos graficos log-log, del error relativo en función\n",
        "del número de términos ($\\mathrm{Log_{10}} E$ VS $\\mathrm{Log_{10}} N$), para $S_N^{(1)}$ y $S_N^{(2)}$. Donde,  $$E = |(S_N^{(i)} - S_N^{(3)})/S_N^{(3)}|,$$ $i = 1, 2$. Considere valores de $N = 1\\times 10^{6}$."
      ],
      "metadata": {
        "id": "UxOw51csWM6w"
      }
    },
    {
      "cell_type": "code",
      "source": [
        "N_valores = np.logspace(0, 6, num=100, dtype=int)  # 100 puntos entre 1 y 10^6\n",
        "\n",
        "#Errores relativos para S1_N y S2_N\n",
        "errorS1, errorS2 = [], []\n",
        "\n",
        "for N in N_valores:\n",
        "    s1 = S1_N(N)\n",
        "    s2 = S2_N(N)\n",
        "    s3 = S3_N(N)  # Solución exact\n",
        "\n",
        "    errorS1.append(abs((s1 - s3) / s3))\n",
        "    errorS2.append(abs((s2 - s3) / s3))"
      ],
      "metadata": {
        "id": "mWEHnNhwdrKj"
      },
      "execution_count": 32,
      "outputs": []
    },
    {
      "cell_type": "code",
      "source": [
        "plt.figure(figsize=(10, 6))\n",
        "\n",
        "plt.subplot(1, 2, 1)\n",
        "plt.loglog(N_valores, errorS1, color = 'r', linestyle='-', label='S(1)_N')\n",
        "plt.title('Error R (%) S(1)n')\n",
        "plt.xlabel('Log10(N)')\n",
        "plt.ylabel('Log10(E)')\n",
        "plt.grid(True)\n",
        "plt.legend()\n",
        "\n",
        "plt.tight_layout()\n",
        "plt.show()"
      ],
      "metadata": {
        "colab": {
          "base_uri": "https://localhost:8080/",
          "height": 607
        },
        "id": "uH7jye1FViOh",
        "outputId": "27b2e216-5bea-4f2b-9bf4-3438e4f0bf0e"
      },
      "execution_count": 36,
      "outputs": [
        {
          "output_type": "display_data",
          "data": {
            "text/plain": [
              "<Figure size 1000x600 with 1 Axes>"
            ],
            "image/png": "[encoded data removed]"
          },
          "metadata": {}
        }
      ]
    },
    {
      "cell_type": "markdown",
      "source": [
        "d. Analizar y discutir los resultados. Tenga en cuenta la discusión realizada sobre teoría de errores en la página\n",
        "39 del libro [Computational Physics. ](https://www.dropbox.com/s/n06ul2r4l65khl6/Computational%20Physics%20-%20Problem%20Solving%20with%20Computers%2C%203527406263.pdf?dl=0)"
      ],
      "metadata": {
        "id": "_nlkx2O6WOc7"
      }
    },
    {
      "cell_type": "code",
      "source": [
        "\n",
        "plt.subplot(1, 2, 2)\n",
        "plt.loglog(N_valores, errorS2, color = 'r', linestyle='-', label='S(2)_N')\n",
        "plt.title('Error R (%) S(1)n')\n",
        "plt.xlabel('Log10(N)')\n",
        "plt.ylabel('Log10(E)')\n",
        "plt.grid(True)\n",
        "plt.legend()"
      ],
      "metadata": {
        "colab": {
          "base_uri": "https://localhost:8080/",
          "height": 493
        },
        "id": "F4MAdY1edjih",
        "outputId": "b934d6b3-6029-413d-ce1f-2b046b280f2a"
      },
      "execution_count": 37,
      "outputs": [
        {
          "output_type": "execute_result",
          "data": {
            "text/plain": [
              "<matplotlib.legend.Legend at 0x7a8d5f5a54e0>"
            ]
          },
          "metadata": {},
          "execution_count": 37
        },
        {
          "output_type": "display_data",
          "data": {
            "text/plain": [
              "<Figure size 640x480 with 1 Axes>"
            ],
            "image/png": "[encoded data removed]"
          },
          "metadata": {}
        }
      ]
    },
    {
      "cell_type": "code",
      "source": [],
      "metadata": {
        "id": "OPhMbolXcn8-"
      },
      "execution_count": null,
      "outputs": []
    },
    {
      "cell_type": "markdown",
      "source": [
        " Los resultados muestran que la cancelación sustractiva afecta la precisión numérica, especialmente en S(1)_N.\n",
        " En S(2)_N se reduce este efecto al separar la suma, pero S(3)_N es la mejor opción al evitarla por completo. Es crucial entender y manejar la cancelación sustractiva para obtener resultados precisos, buscando métodos que la eviten."
      ],
      "metadata": {
        "id": "yh_Q-XwdXiZD"
      }
    }
  ]
}